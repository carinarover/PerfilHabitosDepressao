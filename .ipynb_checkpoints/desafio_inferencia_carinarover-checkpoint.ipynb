{
 "cells": [
  {
   "cell_type": "markdown",
   "id": "318b80e2",
   "metadata": {},
   "source": [
    "# Desafio Inferência Estatística"
   ]
  },
  {
   "cell_type": "markdown",
   "id": "986002dd",
   "metadata": {},
   "source": [
    "###  Base de dados\n",
    "\n",
    "DEMO_PHQ.csv: banco de dados contendo 5334 observações de adultos pesquisados no NHANES 2005-2006, segue PDF com detalhamento das variáveis.\n",
    "\n",
    "PAG_HEI.csv: banco de dados contendo 9424 observações de crianças e adultos pesquisados no NHANES 2005-2006, segue PDF com detalhamento das variáveis."
   ]
  },
  {
   "cell_type": "code",
   "execution_count": 1,
   "id": "06646213",
   "metadata": {},
   "outputs": [],
   "source": [
    "# Importando pacotes para a análise\n",
    "import pandas as pd\n",
    "import numpy as np\n",
    "import seaborn as sns\n",
    "import matplotlib.pyplot as plt "
   ]
  },
  {
   "cell_type": "code",
   "execution_count": 2,
   "id": "567c7481",
   "metadata": {},
   "outputs": [],
   "source": [
    "# Importando dados\n",
    "demo = pd.read_csv('DEMO_PHQ.csv')\n",
    "pag = pd.read_csv('PAG_HEI.csv')"
   ]
  },
  {
   "cell_type": "markdown",
   "id": "5fac9d90",
   "metadata": {},
   "source": [
    "### Tratamento de dados"
   ]
  },
  {
   "cell_type": "code",
   "execution_count": 3,
   "id": "45ddf1be",
   "metadata": {},
   "outputs": [
    {
     "name": "stdout",
     "output_type": "stream",
     "text": [
      "<class 'pandas.core.frame.DataFrame'>\n",
      "RangeIndex: 5334 entries, 0 to 5333\n",
      "Data columns (total 15 columns):\n",
      " #   Column    Non-Null Count  Dtype  \n",
      "---  ------    --------------  -----  \n",
      " 0   SEQN      5334 non-null   int64  \n",
      " 1   DPQ010    4836 non-null   float64\n",
      " 2   DPQ020    4836 non-null   float64\n",
      " 3   DPQ030    4836 non-null   float64\n",
      " 4   DPQ040    4836 non-null   float64\n",
      " 5   DPQ050    4836 non-null   float64\n",
      " 6   DPQ060    4836 non-null   float64\n",
      " 7   DPQ070    4836 non-null   float64\n",
      " 8   DPQ080    4836 non-null   float64\n",
      " 9   DPQ090    4836 non-null   float64\n",
      " 10  RIAGENDR  5334 non-null   int64  \n",
      " 11  RIDAGEYR  5334 non-null   int64  \n",
      " 12  RIDRETH1  5334 non-null   int64  \n",
      " 13  DMDEDUC   5334 non-null   int64  \n",
      " 14  INDFMINC  5287 non-null   float64\n",
      "dtypes: float64(10), int64(5)\n",
      "memory usage: 625.2 KB\n"
     ]
    }
   ],
   "source": [
    "demo.info()"
   ]
  },
  {
   "cell_type": "code",
   "execution_count": 4,
   "id": "a1cd46c3",
   "metadata": {},
   "outputs": [
    {
     "name": "stdout",
     "output_type": "stream",
     "text": [
      "<class 'pandas.core.frame.DataFrame'>\n",
      "RangeIndex: 9424 entries, 0 to 9423\n",
      "Data columns (total 17 columns):\n",
      " #   Column                    Non-Null Count  Dtype  \n",
      "---  ------                    --------------  -----  \n",
      " 0   SEQN                      9424 non-null   int64  \n",
      " 1   PAG_MINW                  7150 non-null   float64\n",
      " 2   ADHERENCE                 7150 non-null   float64\n",
      " 3   HEI2015C1_TOTALVEG        8549 non-null   float64\n",
      " 4   HEI2015C2_GREEN_AND_BEAN  8549 non-null   float64\n",
      " 5   HEI2015C3_TOTALFRUIT      8549 non-null   float64\n",
      " 6   HEI2015C4_WHOLEFRUIT      8549 non-null   float64\n",
      " 7   HEI2015C5_WHOLEGRAIN      8549 non-null   float64\n",
      " 8   HEI2015C6_TOTALDAIRY      8549 non-null   float64\n",
      " 9   HEI2015C7_TOTPROT         8549 non-null   float64\n",
      " 10  HEI2015C8_SEAPLANT_PROT   8549 non-null   float64\n",
      " 11  HEI2015C9_FATTYACID       8549 non-null   float64\n",
      " 12  HEI2015C10_SODIUM         8549 non-null   float64\n",
      " 13  HEI2015C11_REFINEDGRAIN   8549 non-null   float64\n",
      " 14  HEI2015C12_SFAT           8549 non-null   float64\n",
      " 15  HEI2015C13_ADDSUG         8549 non-null   float64\n",
      " 16  HEI2015_TOTAL_SCORE       8549 non-null   float64\n",
      "dtypes: float64(16), int64(1)\n",
      "memory usage: 1.2 MB\n"
     ]
    }
   ],
   "source": [
    "pag.info() "
   ]
  },
  {
   "cell_type": "code",
   "execution_count": 5,
   "id": "afd65ad5",
   "metadata": {},
   "outputs": [
    {
     "data": {
      "text/html": [
       "<div>\n",
       "<style scoped>\n",
       "    .dataframe tbody tr th:only-of-type {\n",
       "        vertical-align: middle;\n",
       "    }\n",
       "\n",
       "    .dataframe tbody tr th {\n",
       "        vertical-align: top;\n",
       "    }\n",
       "\n",
       "    .dataframe thead th {\n",
       "        text-align: right;\n",
       "    }\n",
       "</style>\n",
       "<table border=\"1\" class=\"dataframe\">\n",
       "  <thead>\n",
       "    <tr style=\"text-align: right;\">\n",
       "      <th></th>\n",
       "      <th>SEQN</th>\n",
       "      <th>DPQ010</th>\n",
       "      <th>DPQ020</th>\n",
       "      <th>DPQ030</th>\n",
       "      <th>DPQ040</th>\n",
       "      <th>DPQ050</th>\n",
       "      <th>DPQ060</th>\n",
       "      <th>DPQ070</th>\n",
       "      <th>DPQ080</th>\n",
       "      <th>DPQ090</th>\n",
       "      <th>RIAGENDR</th>\n",
       "      <th>RIDAGEYR</th>\n",
       "      <th>RIDRETH1</th>\n",
       "      <th>DMDEDUC</th>\n",
       "      <th>INDFMINC</th>\n",
       "    </tr>\n",
       "  </thead>\n",
       "  <tbody>\n",
       "    <tr>\n",
       "      <th>0</th>\n",
       "      <td>31130</td>\n",
       "      <td>NaN</td>\n",
       "      <td>NaN</td>\n",
       "      <td>NaN</td>\n",
       "      <td>NaN</td>\n",
       "      <td>NaN</td>\n",
       "      <td>NaN</td>\n",
       "      <td>NaN</td>\n",
       "      <td>NaN</td>\n",
       "      <td>NaN</td>\n",
       "      <td>2</td>\n",
       "      <td>85</td>\n",
       "      <td>3</td>\n",
       "      <td>4</td>\n",
       "      <td>4.0</td>\n",
       "    </tr>\n",
       "    <tr>\n",
       "      <th>1</th>\n",
       "      <td>31131</td>\n",
       "      <td>0.0</td>\n",
       "      <td>0.0</td>\n",
       "      <td>0.0</td>\n",
       "      <td>0.0</td>\n",
       "      <td>0.0</td>\n",
       "      <td>0.0</td>\n",
       "      <td>0.0</td>\n",
       "      <td>0.0</td>\n",
       "      <td>0.0</td>\n",
       "      <td>2</td>\n",
       "      <td>44</td>\n",
       "      <td>4</td>\n",
       "      <td>4</td>\n",
       "      <td>11.0</td>\n",
       "    </tr>\n",
       "    <tr>\n",
       "      <th>2</th>\n",
       "      <td>31132</td>\n",
       "      <td>0.0</td>\n",
       "      <td>0.0</td>\n",
       "      <td>0.0</td>\n",
       "      <td>0.0</td>\n",
       "      <td>0.0</td>\n",
       "      <td>0.0</td>\n",
       "      <td>0.0</td>\n",
       "      <td>0.0</td>\n",
       "      <td>0.0</td>\n",
       "      <td>1</td>\n",
       "      <td>70</td>\n",
       "      <td>3</td>\n",
       "      <td>5</td>\n",
       "      <td>11.0</td>\n",
       "    </tr>\n",
       "    <tr>\n",
       "      <th>3</th>\n",
       "      <td>31134</td>\n",
       "      <td>0.0</td>\n",
       "      <td>0.0</td>\n",
       "      <td>0.0</td>\n",
       "      <td>0.0</td>\n",
       "      <td>0.0</td>\n",
       "      <td>0.0</td>\n",
       "      <td>0.0</td>\n",
       "      <td>0.0</td>\n",
       "      <td>0.0</td>\n",
       "      <td>1</td>\n",
       "      <td>73</td>\n",
       "      <td>3</td>\n",
       "      <td>3</td>\n",
       "      <td>12.0</td>\n",
       "    </tr>\n",
       "    <tr>\n",
       "      <th>4</th>\n",
       "      <td>31139</td>\n",
       "      <td>0.0</td>\n",
       "      <td>0.0</td>\n",
       "      <td>0.0</td>\n",
       "      <td>0.0</td>\n",
       "      <td>3.0</td>\n",
       "      <td>1.0</td>\n",
       "      <td>0.0</td>\n",
       "      <td>0.0</td>\n",
       "      <td>0.0</td>\n",
       "      <td>2</td>\n",
       "      <td>18</td>\n",
       "      <td>2</td>\n",
       "      <td>3</td>\n",
       "      <td>11.0</td>\n",
       "    </tr>\n",
       "  </tbody>\n",
       "</table>\n",
       "</div>"
      ],
      "text/plain": [
       "    SEQN  DPQ010  DPQ020  DPQ030  DPQ040  DPQ050  DPQ060  DPQ070  DPQ080  \\\n",
       "0  31130     NaN     NaN     NaN     NaN     NaN     NaN     NaN     NaN   \n",
       "1  31131     0.0     0.0     0.0     0.0     0.0     0.0     0.0     0.0   \n",
       "2  31132     0.0     0.0     0.0     0.0     0.0     0.0     0.0     0.0   \n",
       "3  31134     0.0     0.0     0.0     0.0     0.0     0.0     0.0     0.0   \n",
       "4  31139     0.0     0.0     0.0     0.0     3.0     1.0     0.0     0.0   \n",
       "\n",
       "   DPQ090  RIAGENDR  RIDAGEYR  RIDRETH1  DMDEDUC  INDFMINC  \n",
       "0     NaN         2        85         3        4       4.0  \n",
       "1     0.0         2        44         4        4      11.0  \n",
       "2     0.0         1        70         3        5      11.0  \n",
       "3     0.0         1        73         3        3      12.0  \n",
       "4     0.0         2        18         2        3      11.0  "
      ]
     },
     "execution_count": 5,
     "metadata": {},
     "output_type": "execute_result"
    }
   ],
   "source": [
    "demo.head() "
   ]
  },
  {
   "cell_type": "code",
   "execution_count": 6,
   "id": "87981928",
   "metadata": {},
   "outputs": [
    {
     "data": {
      "text/html": [
       "<div>\n",
       "<style scoped>\n",
       "    .dataframe tbody tr th:only-of-type {\n",
       "        vertical-align: middle;\n",
       "    }\n",
       "\n",
       "    .dataframe tbody tr th {\n",
       "        vertical-align: top;\n",
       "    }\n",
       "\n",
       "    .dataframe thead th {\n",
       "        text-align: right;\n",
       "    }\n",
       "</style>\n",
       "<table border=\"1\" class=\"dataframe\">\n",
       "  <thead>\n",
       "    <tr style=\"text-align: right;\">\n",
       "      <th></th>\n",
       "      <th>SEQN</th>\n",
       "      <th>PAG_MINW</th>\n",
       "      <th>ADHERENCE</th>\n",
       "      <th>HEI2015C1_TOTALVEG</th>\n",
       "      <th>HEI2015C2_GREEN_AND_BEAN</th>\n",
       "      <th>HEI2015C3_TOTALFRUIT</th>\n",
       "      <th>HEI2015C4_WHOLEFRUIT</th>\n",
       "      <th>HEI2015C5_WHOLEGRAIN</th>\n",
       "      <th>HEI2015C6_TOTALDAIRY</th>\n",
       "      <th>HEI2015C7_TOTPROT</th>\n",
       "      <th>HEI2015C8_SEAPLANT_PROT</th>\n",
       "      <th>HEI2015C9_FATTYACID</th>\n",
       "      <th>HEI2015C10_SODIUM</th>\n",
       "      <th>HEI2015C11_REFINEDGRAIN</th>\n",
       "      <th>HEI2015C12_SFAT</th>\n",
       "      <th>HEI2015C13_ADDSUG</th>\n",
       "      <th>HEI2015_TOTAL_SCORE</th>\n",
       "    </tr>\n",
       "  </thead>\n",
       "  <tbody>\n",
       "    <tr>\n",
       "      <th>0</th>\n",
       "      <td>31128</td>\n",
       "      <td>NaN</td>\n",
       "      <td>NaN</td>\n",
       "      <td>3.083350</td>\n",
       "      <td>0.0</td>\n",
       "      <td>3.927008</td>\n",
       "      <td>5.000000</td>\n",
       "      <td>0.000000</td>\n",
       "      <td>5.000000</td>\n",
       "      <td>4.251329</td>\n",
       "      <td>0.000000</td>\n",
       "      <td>2.487572</td>\n",
       "      <td>6.911882</td>\n",
       "      <td>10.000000</td>\n",
       "      <td>0.818029</td>\n",
       "      <td>6.408092</td>\n",
       "      <td>47.887262</td>\n",
       "    </tr>\n",
       "    <tr>\n",
       "      <th>1</th>\n",
       "      <td>31129</td>\n",
       "      <td>285.450346</td>\n",
       "      <td>2.0</td>\n",
       "      <td>1.697761</td>\n",
       "      <td>0.0</td>\n",
       "      <td>3.731602</td>\n",
       "      <td>4.929186</td>\n",
       "      <td>0.527631</td>\n",
       "      <td>3.887809</td>\n",
       "      <td>4.693141</td>\n",
       "      <td>0.928562</td>\n",
       "      <td>3.740758</td>\n",
       "      <td>6.146441</td>\n",
       "      <td>7.274979</td>\n",
       "      <td>8.006457</td>\n",
       "      <td>0.000000</td>\n",
       "      <td>45.564326</td>\n",
       "    </tr>\n",
       "    <tr>\n",
       "      <th>2</th>\n",
       "      <td>31130</td>\n",
       "      <td>0.000000</td>\n",
       "      <td>1.0</td>\n",
       "      <td>NaN</td>\n",
       "      <td>NaN</td>\n",
       "      <td>NaN</td>\n",
       "      <td>NaN</td>\n",
       "      <td>NaN</td>\n",
       "      <td>NaN</td>\n",
       "      <td>NaN</td>\n",
       "      <td>NaN</td>\n",
       "      <td>NaN</td>\n",
       "      <td>NaN</td>\n",
       "      <td>NaN</td>\n",
       "      <td>NaN</td>\n",
       "      <td>NaN</td>\n",
       "      <td>NaN</td>\n",
       "    </tr>\n",
       "    <tr>\n",
       "      <th>3</th>\n",
       "      <td>31131</td>\n",
       "      <td>264.711316</td>\n",
       "      <td>2.0</td>\n",
       "      <td>3.115103</td>\n",
       "      <td>0.0</td>\n",
       "      <td>5.000000</td>\n",
       "      <td>1.320674</td>\n",
       "      <td>0.000000</td>\n",
       "      <td>3.141062</td>\n",
       "      <td>4.071959</td>\n",
       "      <td>2.052399</td>\n",
       "      <td>0.684985</td>\n",
       "      <td>2.297100</td>\n",
       "      <td>9.512964</td>\n",
       "      <td>0.438428</td>\n",
       "      <td>3.919226</td>\n",
       "      <td>35.553899</td>\n",
       "    </tr>\n",
       "    <tr>\n",
       "      <th>4</th>\n",
       "      <td>31132</td>\n",
       "      <td>1353.348730</td>\n",
       "      <td>3.0</td>\n",
       "      <td>3.509081</td>\n",
       "      <td>0.0</td>\n",
       "      <td>5.000000</td>\n",
       "      <td>5.000000</td>\n",
       "      <td>5.000000</td>\n",
       "      <td>4.448512</td>\n",
       "      <td>5.000000</td>\n",
       "      <td>0.000000</td>\n",
       "      <td>2.050769</td>\n",
       "      <td>7.369489</td>\n",
       "      <td>8.887880</td>\n",
       "      <td>8.186877</td>\n",
       "      <td>9.099088</td>\n",
       "      <td>63.551696</td>\n",
       "    </tr>\n",
       "  </tbody>\n",
       "</table>\n",
       "</div>"
      ],
      "text/plain": [
       "    SEQN     PAG_MINW  ADHERENCE  HEI2015C1_TOTALVEG  \\\n",
       "0  31128          NaN        NaN            3.083350   \n",
       "1  31129   285.450346        2.0            1.697761   \n",
       "2  31130     0.000000        1.0                 NaN   \n",
       "3  31131   264.711316        2.0            3.115103   \n",
       "4  31132  1353.348730        3.0            3.509081   \n",
       "\n",
       "   HEI2015C2_GREEN_AND_BEAN  HEI2015C3_TOTALFRUIT  HEI2015C4_WHOLEFRUIT  \\\n",
       "0                       0.0              3.927008              5.000000   \n",
       "1                       0.0              3.731602              4.929186   \n",
       "2                       NaN                   NaN                   NaN   \n",
       "3                       0.0              5.000000              1.320674   \n",
       "4                       0.0              5.000000              5.000000   \n",
       "\n",
       "   HEI2015C5_WHOLEGRAIN  HEI2015C6_TOTALDAIRY  HEI2015C7_TOTPROT  \\\n",
       "0              0.000000              5.000000           4.251329   \n",
       "1              0.527631              3.887809           4.693141   \n",
       "2                   NaN                   NaN                NaN   \n",
       "3              0.000000              3.141062           4.071959   \n",
       "4              5.000000              4.448512           5.000000   \n",
       "\n",
       "   HEI2015C8_SEAPLANT_PROT  HEI2015C9_FATTYACID  HEI2015C10_SODIUM  \\\n",
       "0                 0.000000             2.487572           6.911882   \n",
       "1                 0.928562             3.740758           6.146441   \n",
       "2                      NaN                  NaN                NaN   \n",
       "3                 2.052399             0.684985           2.297100   \n",
       "4                 0.000000             2.050769           7.369489   \n",
       "\n",
       "   HEI2015C11_REFINEDGRAIN  HEI2015C12_SFAT  HEI2015C13_ADDSUG  \\\n",
       "0                10.000000         0.818029           6.408092   \n",
       "1                 7.274979         8.006457           0.000000   \n",
       "2                      NaN              NaN                NaN   \n",
       "3                 9.512964         0.438428           3.919226   \n",
       "4                 8.887880         8.186877           9.099088   \n",
       "\n",
       "   HEI2015_TOTAL_SCORE  \n",
       "0            47.887262  \n",
       "1            45.564326  \n",
       "2                  NaN  \n",
       "3            35.553899  \n",
       "4            63.551696  "
      ]
     },
     "execution_count": 6,
     "metadata": {},
     "output_type": "execute_result"
    }
   ],
   "source": [
    "pag.head()"
   ]
  },
  {
   "cell_type": "code",
   "execution_count": 7,
   "id": "d60b7738",
   "metadata": {},
   "outputs": [
    {
     "name": "stdout",
     "output_type": "stream",
     "text": [
      "<class 'pandas.core.frame.DataFrame'>\n",
      "Int64Index: 5334 entries, 0 to 5333\n",
      "Data columns (total 31 columns):\n",
      " #   Column                    Non-Null Count  Dtype  \n",
      "---  ------                    --------------  -----  \n",
      " 0   SEQN                      5334 non-null   int64  \n",
      " 1   DPQ010                    4836 non-null   float64\n",
      " 2   DPQ020                    4836 non-null   float64\n",
      " 3   DPQ030                    4836 non-null   float64\n",
      " 4   DPQ040                    4836 non-null   float64\n",
      " 5   DPQ050                    4836 non-null   float64\n",
      " 6   DPQ060                    4836 non-null   float64\n",
      " 7   DPQ070                    4836 non-null   float64\n",
      " 8   DPQ080                    4836 non-null   float64\n",
      " 9   DPQ090                    4836 non-null   float64\n",
      " 10  RIAGENDR                  5334 non-null   int64  \n",
      " 11  RIDAGEYR                  5334 non-null   int64  \n",
      " 12  RIDRETH1                  5334 non-null   int64  \n",
      " 13  DMDEDUC                   5334 non-null   int64  \n",
      " 14  INDFMINC                  5287 non-null   float64\n",
      " 15  PAG_MINW                  5334 non-null   float64\n",
      " 16  ADHERENCE                 5334 non-null   float64\n",
      " 17  HEI2015C1_TOTALVEG        5060 non-null   float64\n",
      " 18  HEI2015C2_GREEN_AND_BEAN  5060 non-null   float64\n",
      " 19  HEI2015C3_TOTALFRUIT      5060 non-null   float64\n",
      " 20  HEI2015C4_WHOLEFRUIT      5060 non-null   float64\n",
      " 21  HEI2015C5_WHOLEGRAIN      5060 non-null   float64\n",
      " 22  HEI2015C6_TOTALDAIRY      5060 non-null   float64\n",
      " 23  HEI2015C7_TOTPROT         5060 non-null   float64\n",
      " 24  HEI2015C8_SEAPLANT_PROT   5060 non-null   float64\n",
      " 25  HEI2015C9_FATTYACID       5060 non-null   float64\n",
      " 26  HEI2015C10_SODIUM         5060 non-null   float64\n",
      " 27  HEI2015C11_REFINEDGRAIN   5060 non-null   float64\n",
      " 28  HEI2015C12_SFAT           5060 non-null   float64\n",
      " 29  HEI2015C13_ADDSUG         5060 non-null   float64\n",
      " 30  HEI2015_TOTAL_SCORE       5060 non-null   float64\n",
      "dtypes: float64(26), int64(5)\n",
      "memory usage: 1.3 MB\n"
     ]
    }
   ],
   "source": [
    "# Combinando os dois bancos de dados fornecidos, utilizando a variável SEQN como chave única.\n",
    "\n",
    "bd = demo.merge(pag, on = 'SEQN', how = 'left') \n",
    "bd.info()"
   ]
  },
  {
   "cell_type": "markdown",
   "id": "f07b06af",
   "metadata": {},
   "source": [
    "#### Tratamento das variáveis"
   ]
  },
  {
   "cell_type": "code",
   "execution_count": 8,
   "id": "cd916742",
   "metadata": {},
   "outputs": [
    {
     "data": {
      "text/plain": [
       "SEQN                        0.00\n",
       "DPQ010                      9.34\n",
       "DPQ020                      9.34\n",
       "DPQ030                      9.34\n",
       "DPQ040                      9.34\n",
       "DPQ050                      9.34\n",
       "DPQ060                      9.34\n",
       "DPQ070                      9.34\n",
       "DPQ080                      9.34\n",
       "DPQ090                      9.34\n",
       "RIAGENDR                    0.00\n",
       "RIDAGEYR                    0.00\n",
       "RIDRETH1                    0.00\n",
       "DMDEDUC                     0.00\n",
       "INDFMINC                    0.88\n",
       "PAG_MINW                    0.00\n",
       "ADHERENCE                   0.00\n",
       "HEI2015C1_TOTALVEG          5.14\n",
       "HEI2015C2_GREEN_AND_BEAN    5.14\n",
       "HEI2015C3_TOTALFRUIT        5.14\n",
       "HEI2015C4_WHOLEFRUIT        5.14\n",
       "HEI2015C5_WHOLEGRAIN        5.14\n",
       "HEI2015C6_TOTALDAIRY        5.14\n",
       "HEI2015C7_TOTPROT           5.14\n",
       "HEI2015C8_SEAPLANT_PROT     5.14\n",
       "HEI2015C9_FATTYACID         5.14\n",
       "HEI2015C10_SODIUM           5.14\n",
       "HEI2015C11_REFINEDGRAIN     5.14\n",
       "HEI2015C12_SFAT             5.14\n",
       "HEI2015C13_ADDSUG           5.14\n",
       "HEI2015_TOTAL_SCORE         5.14\n",
       "dtype: float64"
      ]
     },
     "execution_count": 8,
     "metadata": {},
     "output_type": "execute_result"
    }
   ],
   "source": [
    "#Verificando missing values\n",
    "bd.isnull().mean().round(4)*100 "
   ]
  },
  {
   "cell_type": "code",
   "execution_count": 9,
   "id": "6a902a58",
   "metadata": {},
   "outputs": [
    {
     "data": {
      "text/html": [
       "<div>\n",
       "<style scoped>\n",
       "    .dataframe tbody tr th:only-of-type {\n",
       "        vertical-align: middle;\n",
       "    }\n",
       "\n",
       "    .dataframe tbody tr th {\n",
       "        vertical-align: top;\n",
       "    }\n",
       "\n",
       "    .dataframe thead th {\n",
       "        text-align: right;\n",
       "    }\n",
       "</style>\n",
       "<table border=\"1\" class=\"dataframe\">\n",
       "  <thead>\n",
       "    <tr style=\"text-align: right;\">\n",
       "      <th></th>\n",
       "      <th>DPQ010</th>\n",
       "      <th>DPQ020</th>\n",
       "      <th>DPQ030</th>\n",
       "      <th>DPQ040</th>\n",
       "      <th>DPQ050</th>\n",
       "      <th>DPQ060</th>\n",
       "      <th>DPQ070</th>\n",
       "      <th>DPQ080</th>\n",
       "      <th>DPQ090</th>\n",
       "      <th>RIAGENDR</th>\n",
       "      <th>...</th>\n",
       "      <th>HEI2015C5_WHOLEGRAIN</th>\n",
       "      <th>HEI2015C6_TOTALDAIRY</th>\n",
       "      <th>HEI2015C7_TOTPROT</th>\n",
       "      <th>HEI2015C8_SEAPLANT_PROT</th>\n",
       "      <th>HEI2015C9_FATTYACID</th>\n",
       "      <th>HEI2015C10_SODIUM</th>\n",
       "      <th>HEI2015C11_REFINEDGRAIN</th>\n",
       "      <th>HEI2015C12_SFAT</th>\n",
       "      <th>HEI2015C13_ADDSUG</th>\n",
       "      <th>HEI2015_TOTAL_SCORE</th>\n",
       "    </tr>\n",
       "  </thead>\n",
       "  <tbody>\n",
       "    <tr>\n",
       "      <th>count</th>\n",
       "      <td>4836.00</td>\n",
       "      <td>4836.00</td>\n",
       "      <td>4836.00</td>\n",
       "      <td>4836.00</td>\n",
       "      <td>4836.00</td>\n",
       "      <td>4836.00</td>\n",
       "      <td>4836.00</td>\n",
       "      <td>4836.00</td>\n",
       "      <td>4836.00</td>\n",
       "      <td>5334.00</td>\n",
       "      <td>...</td>\n",
       "      <td>5060.00</td>\n",
       "      <td>5060.00</td>\n",
       "      <td>5060.00</td>\n",
       "      <td>5060.00</td>\n",
       "      <td>5060.00</td>\n",
       "      <td>5060.00</td>\n",
       "      <td>5060.00</td>\n",
       "      <td>5060.00</td>\n",
       "      <td>5060.00</td>\n",
       "      <td>5060.00</td>\n",
       "    </tr>\n",
       "    <tr>\n",
       "      <th>mean</th>\n",
       "      <td>0.31</td>\n",
       "      <td>0.31</td>\n",
       "      <td>0.55</td>\n",
       "      <td>0.72</td>\n",
       "      <td>0.32</td>\n",
       "      <td>0.21</td>\n",
       "      <td>0.23</td>\n",
       "      <td>0.15</td>\n",
       "      <td>0.05</td>\n",
       "      <td>1.52</td>\n",
       "      <td>...</td>\n",
       "      <td>1.76</td>\n",
       "      <td>3.76</td>\n",
       "      <td>4.43</td>\n",
       "      <td>2.59</td>\n",
       "      <td>4.71</td>\n",
       "      <td>4.76</td>\n",
       "      <td>5.80</td>\n",
       "      <td>6.07</td>\n",
       "      <td>6.22</td>\n",
       "      <td>49.97</td>\n",
       "    </tr>\n",
       "    <tr>\n",
       "      <th>std</th>\n",
       "      <td>0.76</td>\n",
       "      <td>0.71</td>\n",
       "      <td>0.93</td>\n",
       "      <td>0.91</td>\n",
       "      <td>0.74</td>\n",
       "      <td>0.62</td>\n",
       "      <td>0.64</td>\n",
       "      <td>0.59</td>\n",
       "      <td>0.33</td>\n",
       "      <td>0.50</td>\n",
       "      <td>...</td>\n",
       "      <td>1.92</td>\n",
       "      <td>1.61</td>\n",
       "      <td>1.01</td>\n",
       "      <td>2.17</td>\n",
       "      <td>3.24</td>\n",
       "      <td>3.42</td>\n",
       "      <td>3.50</td>\n",
       "      <td>3.18</td>\n",
       "      <td>3.33</td>\n",
       "      <td>12.32</td>\n",
       "    </tr>\n",
       "    <tr>\n",
       "      <th>min</th>\n",
       "      <td>0.00</td>\n",
       "      <td>0.00</td>\n",
       "      <td>0.00</td>\n",
       "      <td>0.00</td>\n",
       "      <td>0.00</td>\n",
       "      <td>0.00</td>\n",
       "      <td>0.00</td>\n",
       "      <td>0.00</td>\n",
       "      <td>0.00</td>\n",
       "      <td>1.00</td>\n",
       "      <td>...</td>\n",
       "      <td>0.00</td>\n",
       "      <td>0.00</td>\n",
       "      <td>0.00</td>\n",
       "      <td>0.00</td>\n",
       "      <td>0.00</td>\n",
       "      <td>0.00</td>\n",
       "      <td>0.00</td>\n",
       "      <td>0.00</td>\n",
       "      <td>0.00</td>\n",
       "      <td>16.06</td>\n",
       "    </tr>\n",
       "    <tr>\n",
       "      <th>25%</th>\n",
       "      <td>0.00</td>\n",
       "      <td>0.00</td>\n",
       "      <td>0.00</td>\n",
       "      <td>0.00</td>\n",
       "      <td>0.00</td>\n",
       "      <td>0.00</td>\n",
       "      <td>0.00</td>\n",
       "      <td>0.00</td>\n",
       "      <td>0.00</td>\n",
       "      <td>1.00</td>\n",
       "      <td>...</td>\n",
       "      <td>0.00</td>\n",
       "      <td>2.59</td>\n",
       "      <td>4.17</td>\n",
       "      <td>0.00</td>\n",
       "      <td>2.02</td>\n",
       "      <td>1.59</td>\n",
       "      <td>2.93</td>\n",
       "      <td>3.70</td>\n",
       "      <td>3.72</td>\n",
       "      <td>41.03</td>\n",
       "    </tr>\n",
       "    <tr>\n",
       "      <th>50%</th>\n",
       "      <td>0.00</td>\n",
       "      <td>0.00</td>\n",
       "      <td>0.00</td>\n",
       "      <td>0.00</td>\n",
       "      <td>0.00</td>\n",
       "      <td>0.00</td>\n",
       "      <td>0.00</td>\n",
       "      <td>0.00</td>\n",
       "      <td>0.00</td>\n",
       "      <td>2.00</td>\n",
       "      <td>...</td>\n",
       "      <td>1.03</td>\n",
       "      <td>4.94</td>\n",
       "      <td>5.00</td>\n",
       "      <td>2.59</td>\n",
       "      <td>4.43</td>\n",
       "      <td>4.83</td>\n",
       "      <td>6.23</td>\n",
       "      <td>6.41</td>\n",
       "      <td>6.86</td>\n",
       "      <td>49.51</td>\n",
       "    </tr>\n",
       "    <tr>\n",
       "      <th>75%</th>\n",
       "      <td>0.00</td>\n",
       "      <td>0.00</td>\n",
       "      <td>1.00</td>\n",
       "      <td>1.00</td>\n",
       "      <td>0.00</td>\n",
       "      <td>0.00</td>\n",
       "      <td>0.00</td>\n",
       "      <td>0.00</td>\n",
       "      <td>0.00</td>\n",
       "      <td>2.00</td>\n",
       "      <td>...</td>\n",
       "      <td>3.41</td>\n",
       "      <td>5.00</td>\n",
       "      <td>5.00</td>\n",
       "      <td>5.00</td>\n",
       "      <td>7.27</td>\n",
       "      <td>7.65</td>\n",
       "      <td>9.25</td>\n",
       "      <td>9.00</td>\n",
       "      <td>9.45</td>\n",
       "      <td>58.17</td>\n",
       "    </tr>\n",
       "    <tr>\n",
       "      <th>95%</th>\n",
       "      <td>2.00</td>\n",
       "      <td>2.00</td>\n",
       "      <td>3.00</td>\n",
       "      <td>3.00</td>\n",
       "      <td>2.00</td>\n",
       "      <td>1.00</td>\n",
       "      <td>1.00</td>\n",
       "      <td>1.00</td>\n",
       "      <td>0.00</td>\n",
       "      <td>2.00</td>\n",
       "      <td>...</td>\n",
       "      <td>5.00</td>\n",
       "      <td>5.00</td>\n",
       "      <td>5.00</td>\n",
       "      <td>5.00</td>\n",
       "      <td>10.00</td>\n",
       "      <td>10.00</td>\n",
       "      <td>10.00</td>\n",
       "      <td>10.00</td>\n",
       "      <td>10.00</td>\n",
       "      <td>71.19</td>\n",
       "    </tr>\n",
       "    <tr>\n",
       "      <th>99%</th>\n",
       "      <td>3.00</td>\n",
       "      <td>3.00</td>\n",
       "      <td>3.00</td>\n",
       "      <td>3.00</td>\n",
       "      <td>3.00</td>\n",
       "      <td>3.00</td>\n",
       "      <td>3.00</td>\n",
       "      <td>3.00</td>\n",
       "      <td>1.00</td>\n",
       "      <td>2.00</td>\n",
       "      <td>...</td>\n",
       "      <td>5.00</td>\n",
       "      <td>5.00</td>\n",
       "      <td>5.00</td>\n",
       "      <td>5.00</td>\n",
       "      <td>10.00</td>\n",
       "      <td>10.00</td>\n",
       "      <td>10.00</td>\n",
       "      <td>10.00</td>\n",
       "      <td>10.00</td>\n",
       "      <td>79.86</td>\n",
       "    </tr>\n",
       "    <tr>\n",
       "      <th>max</th>\n",
       "      <td>9.00</td>\n",
       "      <td>9.00</td>\n",
       "      <td>9.00</td>\n",
       "      <td>9.00</td>\n",
       "      <td>9.00</td>\n",
       "      <td>9.00</td>\n",
       "      <td>9.00</td>\n",
       "      <td>9.00</td>\n",
       "      <td>9.00</td>\n",
       "      <td>2.00</td>\n",
       "      <td>...</td>\n",
       "      <td>5.00</td>\n",
       "      <td>5.00</td>\n",
       "      <td>5.00</td>\n",
       "      <td>5.00</td>\n",
       "      <td>10.00</td>\n",
       "      <td>10.00</td>\n",
       "      <td>10.00</td>\n",
       "      <td>10.00</td>\n",
       "      <td>10.00</td>\n",
       "      <td>89.53</td>\n",
       "    </tr>\n",
       "  </tbody>\n",
       "</table>\n",
       "<p>10 rows × 30 columns</p>\n",
       "</div>"
      ],
      "text/plain": [
       "        DPQ010   DPQ020   DPQ030   DPQ040   DPQ050   DPQ060   DPQ070   DPQ080  \\\n",
       "count  4836.00  4836.00  4836.00  4836.00  4836.00  4836.00  4836.00  4836.00   \n",
       "mean      0.31     0.31     0.55     0.72     0.32     0.21     0.23     0.15   \n",
       "std       0.76     0.71     0.93     0.91     0.74     0.62     0.64     0.59   \n",
       "min       0.00     0.00     0.00     0.00     0.00     0.00     0.00     0.00   \n",
       "25%       0.00     0.00     0.00     0.00     0.00     0.00     0.00     0.00   \n",
       "50%       0.00     0.00     0.00     0.00     0.00     0.00     0.00     0.00   \n",
       "75%       0.00     0.00     1.00     1.00     0.00     0.00     0.00     0.00   \n",
       "95%       2.00     2.00     3.00     3.00     2.00     1.00     1.00     1.00   \n",
       "99%       3.00     3.00     3.00     3.00     3.00     3.00     3.00     3.00   \n",
       "max       9.00     9.00     9.00     9.00     9.00     9.00     9.00     9.00   \n",
       "\n",
       "        DPQ090  RIAGENDR  ...  HEI2015C5_WHOLEGRAIN  HEI2015C6_TOTALDAIRY  \\\n",
       "count  4836.00   5334.00  ...               5060.00               5060.00   \n",
       "mean      0.05      1.52  ...                  1.76                  3.76   \n",
       "std       0.33      0.50  ...                  1.92                  1.61   \n",
       "min       0.00      1.00  ...                  0.00                  0.00   \n",
       "25%       0.00      1.00  ...                  0.00                  2.59   \n",
       "50%       0.00      2.00  ...                  1.03                  4.94   \n",
       "75%       0.00      2.00  ...                  3.41                  5.00   \n",
       "95%       0.00      2.00  ...                  5.00                  5.00   \n",
       "99%       1.00      2.00  ...                  5.00                  5.00   \n",
       "max       9.00      2.00  ...                  5.00                  5.00   \n",
       "\n",
       "       HEI2015C7_TOTPROT  HEI2015C8_SEAPLANT_PROT  HEI2015C9_FATTYACID  \\\n",
       "count            5060.00                  5060.00              5060.00   \n",
       "mean                4.43                     2.59                 4.71   \n",
       "std                 1.01                     2.17                 3.24   \n",
       "min                 0.00                     0.00                 0.00   \n",
       "25%                 4.17                     0.00                 2.02   \n",
       "50%                 5.00                     2.59                 4.43   \n",
       "75%                 5.00                     5.00                 7.27   \n",
       "95%                 5.00                     5.00                10.00   \n",
       "99%                 5.00                     5.00                10.00   \n",
       "max                 5.00                     5.00                10.00   \n",
       "\n",
       "       HEI2015C10_SODIUM  HEI2015C11_REFINEDGRAIN  HEI2015C12_SFAT  \\\n",
       "count            5060.00                  5060.00          5060.00   \n",
       "mean                4.76                     5.80             6.07   \n",
       "std                 3.42                     3.50             3.18   \n",
       "min                 0.00                     0.00             0.00   \n",
       "25%                 1.59                     2.93             3.70   \n",
       "50%                 4.83                     6.23             6.41   \n",
       "75%                 7.65                     9.25             9.00   \n",
       "95%                10.00                    10.00            10.00   \n",
       "99%                10.00                    10.00            10.00   \n",
       "max                10.00                    10.00            10.00   \n",
       "\n",
       "       HEI2015C13_ADDSUG  HEI2015_TOTAL_SCORE  \n",
       "count            5060.00              5060.00  \n",
       "mean                6.22                49.97  \n",
       "std                 3.33                12.32  \n",
       "min                 0.00                16.06  \n",
       "25%                 3.72                41.03  \n",
       "50%                 6.86                49.51  \n",
       "75%                 9.45                58.17  \n",
       "95%                10.00                71.19  \n",
       "99%                10.00                79.86  \n",
       "max                10.00                89.53  \n",
       "\n",
       "[10 rows x 30 columns]"
      ]
     },
     "execution_count": 9,
     "metadata": {},
     "output_type": "execute_result"
    }
   ],
   "source": [
    "# Medidas resumo das variáveis quantitativas:\n",
    "bd.drop(columns=['SEQN']).describe(percentiles = [.25, .5, .75, .95, .99]).round(2) "
   ]
  },
  {
   "cell_type": "markdown",
   "id": "c7332175",
   "metadata": {},
   "source": [
    "Avaliando frequências das variáveis qualitativas:"
   ]
  },
  {
   "cell_type": "code",
   "execution_count": 10,
   "id": "55748ab0",
   "metadata": {},
   "outputs": [
    {
     "data": {
      "text/html": [
       "<div>\n",
       "<style scoped>\n",
       "    .dataframe tbody tr th:only-of-type {\n",
       "        vertical-align: middle;\n",
       "    }\n",
       "\n",
       "    .dataframe tbody tr th {\n",
       "        vertical-align: top;\n",
       "    }\n",
       "\n",
       "    .dataframe thead tr th {\n",
       "        text-align: left;\n",
       "    }\n",
       "</style>\n",
       "<table border=\"1\" class=\"dataframe\">\n",
       "  <thead>\n",
       "    <tr>\n",
       "      <th></th>\n",
       "      <th>DPQ010</th>\n",
       "      <th>DPQ020</th>\n",
       "      <th>DPQ030</th>\n",
       "      <th>DPQ040</th>\n",
       "      <th>DPQ050</th>\n",
       "      <th>DPQ060</th>\n",
       "      <th>DPQ070</th>\n",
       "      <th>DPQ080</th>\n",
       "      <th>DPQ090</th>\n",
       "    </tr>\n",
       "    <tr>\n",
       "      <th></th>\n",
       "      <th>value_counts</th>\n",
       "      <th>value_counts</th>\n",
       "      <th>value_counts</th>\n",
       "      <th>value_counts</th>\n",
       "      <th>value_counts</th>\n",
       "      <th>value_counts</th>\n",
       "      <th>value_counts</th>\n",
       "      <th>value_counts</th>\n",
       "      <th>value_counts</th>\n",
       "    </tr>\n",
       "  </thead>\n",
       "  <tbody>\n",
       "    <tr>\n",
       "      <th>0.0</th>\n",
       "      <td>3850</td>\n",
       "      <td>3769</td>\n",
       "      <td>3152</td>\n",
       "      <td>2429</td>\n",
       "      <td>3813</td>\n",
       "      <td>4134</td>\n",
       "      <td>4070</td>\n",
       "      <td>4362</td>\n",
       "      <td>4667</td>\n",
       "    </tr>\n",
       "    <tr>\n",
       "      <th>1.0</th>\n",
       "      <td>673</td>\n",
       "      <td>769</td>\n",
       "      <td>1071</td>\n",
       "      <td>1706</td>\n",
       "      <td>691</td>\n",
       "      <td>513</td>\n",
       "      <td>545</td>\n",
       "      <td>341</td>\n",
       "      <td>122</td>\n",
       "    </tr>\n",
       "    <tr>\n",
       "      <th>2.0</th>\n",
       "      <td>180</td>\n",
       "      <td>179</td>\n",
       "      <td>286</td>\n",
       "      <td>370</td>\n",
       "      <td>160</td>\n",
       "      <td>95</td>\n",
       "      <td>118</td>\n",
       "      <td>79</td>\n",
       "      <td>32</td>\n",
       "    </tr>\n",
       "    <tr>\n",
       "      <th>3.0</th>\n",
       "      <td>124</td>\n",
       "      <td>114</td>\n",
       "      <td>320</td>\n",
       "      <td>326</td>\n",
       "      <td>168</td>\n",
       "      <td>89</td>\n",
       "      <td>99</td>\n",
       "      <td>45</td>\n",
       "      <td>13</td>\n",
       "    </tr>\n",
       "    <tr>\n",
       "      <th>9.0</th>\n",
       "      <td>9</td>\n",
       "      <td>5</td>\n",
       "      <td>7</td>\n",
       "      <td>5</td>\n",
       "      <td>4</td>\n",
       "      <td>5</td>\n",
       "      <td>4</td>\n",
       "      <td>9</td>\n",
       "      <td>2</td>\n",
       "    </tr>\n",
       "  </tbody>\n",
       "</table>\n",
       "</div>"
      ],
      "text/plain": [
       "          DPQ010       DPQ020       DPQ030       DPQ040       DPQ050  \\\n",
       "    value_counts value_counts value_counts value_counts value_counts   \n",
       "0.0         3850         3769         3152         2429         3813   \n",
       "1.0          673          769         1071         1706          691   \n",
       "2.0          180          179          286          370          160   \n",
       "3.0          124          114          320          326          168   \n",
       "9.0            9            5            7            5            4   \n",
       "\n",
       "          DPQ060       DPQ070       DPQ080       DPQ090  \n",
       "    value_counts value_counts value_counts value_counts  \n",
       "0.0         4134         4070         4362         4667  \n",
       "1.0          513          545          341          122  \n",
       "2.0           95          118           79           32  \n",
       "3.0           89           99           45           13  \n",
       "9.0            5            4            9            2  "
      ]
     },
     "execution_count": 10,
     "metadata": {},
     "output_type": "execute_result"
    }
   ],
   "source": [
    "# Distribuição dos escores para PHQ9\n",
    "bd[[\n",
    "\"DPQ010\",\n",
    "\"DPQ020\",\n",
    "\"DPQ030\",\n",
    "\"DPQ040\",\n",
    "\"DPQ050\",\n",
    "\"DPQ060\",\n",
    "\"DPQ070\",\n",
    "\"DPQ080\",\n",
    "\"DPQ090\"]].agg(['value_counts']) \n",
    "# Resultado: boa parte das pessoas está no 0.0, que significa que não tem sintomas"
   ]
  },
  {
   "cell_type": "code",
   "execution_count": 11,
   "id": "2d2e34d9",
   "metadata": {},
   "outputs": [
    {
     "data": {
      "text/plain": [
       "RIDRETH1\n",
       "1           1133\n",
       "2            164\n",
       "3           2516\n",
       "4           1300\n",
       "5            221\n",
       "dtype: int64"
      ]
     },
     "execution_count": 11,
     "metadata": {},
     "output_type": "execute_result"
    }
   ],
   "source": [
    "# Distribuição de raça:\n",
    "bd[[\"RIDRETH1\"]].value_counts(sort = False) \n",
    "\n",
    "# RIDRETH1 com códigos errados no desafio\n",
    "# 1\tMexican American\t\n",
    "# 2\tOther Hispanic\n",
    "# 3\tNon-Hispanic White\t\n",
    "# 4\tNon-Hispanic Black\t\n",
    "# 5\tOther Race - Including Multi-Racial"
   ]
  },
  {
   "cell_type": "code",
   "execution_count": 12,
   "id": "cadbab57",
   "metadata": {},
   "outputs": [
    {
     "data": {
      "text/plain": [
       "DMDEDUC\n",
       "1           618\n",
       "2           936\n",
       "3          1335\n",
       "4          1498\n",
       "5           939\n",
       "7             4\n",
       "9             4\n",
       "dtype: int64"
      ]
     },
     "execution_count": 12,
     "metadata": {},
     "output_type": "execute_result"
    }
   ],
   "source": [
    "# Distribuição de escolaridade:\n",
    "bd[[\"DMDEDUC\"]].value_counts(sort = False)\n",
    "# 1 = Menor que 9o ano\n",
    "# 2 = 9-12o ano\n",
    "# 3 = Ensino médio\n",
    "# 4 = Ensino superior incompleto\n",
    "# 5 = Superior completo ou maior\n",
    "# 7 = Se recusou a responder\n",
    "# 9 = Não sabe"
   ]
  },
  {
   "cell_type": "code",
   "execution_count": 13,
   "id": "a6fdc607",
   "metadata": {},
   "outputs": [
    {
     "data": {
      "text/plain": [
       "INDFMINC\n",
       "1.0          190\n",
       "2.0          281\n",
       "3.0          440\n",
       "4.0          412\n",
       "5.0          426\n",
       "6.0          678\n",
       "7.0          535\n",
       "8.0          485\n",
       "9.0          297\n",
       "10.0         278\n",
       "11.0        1044\n",
       "12.0          78\n",
       "13.0          30\n",
       "77.0          36\n",
       "99.0          77\n",
       "dtype: int64"
      ]
     },
     "execution_count": 13,
     "metadata": {},
     "output_type": "execute_result"
    }
   ],
   "source": [
    "# Distribuição de renda:\n",
    "bd[[\"INDFMINC\"]].value_counts(sort = False)\n",
    "# 1 = 0-4999\n",
    "# 2 - 5000-9999\n",
    "# 3 = 10000-14999\n",
    "# 4 = 15000-19999\n",
    "# 5 = 20000-24999\n",
    "# 6 = 25000-34999\n",
    "# 7 = 35000-44999\n",
    "# 8 = 45000-54999\n",
    "# 9 = 55000-64999\n",
    "# 10 = 65000-74999\n",
    "# 11 = Maior ou igual a 75000\n",
    "# 12 = Maior que 20000\n",
    "# 13 = Menor que 20000\n",
    "# 77 = Se recusou a responder\n",
    "# 99 = Não sabe"
   ]
  },
  {
   "cell_type": "code",
   "execution_count": 14,
   "id": "2b9829f0",
   "metadata": {},
   "outputs": [
    {
     "data": {
      "text/plain": [
       "ADHERENCE\n",
       "1.0          2304\n",
       "2.0           834\n",
       "3.0          2196\n",
       "dtype: int64"
      ]
     },
     "execution_count": 14,
     "metadata": {},
     "output_type": "execute_result"
    }
   ],
   "source": [
    "# Distribuição de grupo de aderência:\n",
    "bd[[\"ADHERENCE\"]].value_counts(sort = False)\n",
    "\n",
    "# 1 = Baixo (< 150 min/semana)\n",
    "# 2 = Adequado (150-300 min/semana)\n",
    "# 3 = Acima (> 300 min/semana)\n",
    "\n",
    "# Resultado: ou a pessoa faz muito exercício, ou não faz nada"
   ]
  },
  {
   "cell_type": "code",
   "execution_count": 15,
   "id": "91430188",
   "metadata": {},
   "outputs": [],
   "source": [
    "# Agrupando/recategorizando variáveis qualitativas:\n",
    "\n",
    "# 1) Substituindo as categorias 7 e 9 por missing para as variáveis DPQ0X0 e DMDEDUC (porque tem poucos valores)\n",
    "\n",
    "# 2) Agrupando as categorias 2 e 5 na variável RIDRETH1 (por questões de classificação de raça)\n",
    "\n",
    "# 3) Recategorizando a variável INDFMINC (renda) com o ponto médio de cada categoria por conter muitas categorias nesta variável. \n",
    "# Iremos prosseguir a análise desta variável como uma variável quantitativa (para todos que tem 1, vai recategorizar\n",
    "# com o valor médio entre 0 e 4999)\n",
    "\n",
    "replace_map = {\n",
    "  \"DPQ010\": {7: np.nan, 9: np.nan},\n",
    "  \"DPQ020\": {7: np.nan, 9: np.nan},\n",
    "  \"DPQ030\": {7: np.nan, 9: np.nan},\n",
    "  \"DPQ040\": {7: np.nan, 9: np.nan},\n",
    "  \"DPQ050\": {7: np.nan, 9: np.nan},\n",
    "  \"DPQ060\": {7: np.nan, 9: np.nan},\n",
    "  \"DPQ070\": {7: np.nan, 9: np.nan},\n",
    "  \"DPQ080\": {7: np.nan, 9: np.nan},\n",
    "  \"DPQ090\": {7: np.nan, 9: np.nan},\n",
    "  \"RIDRETH1\": {5: 2}, # Other\n",
    "  \"DMDEDUC\": {7: np.nan, 9: np.nan},\n",
    "  \"INDFMINC\": {1: np.mean([0,4999]), 2: np.mean([5000,9999]), 3: np.mean([10000,14999]),4: np.mean([15000,19999]),\n",
    "               5: np.mean([20000,24999]),6: np.mean([25000,34999]), 7: np.mean([35000,44999]), 8: np.mean([45000,54999]),\n",
    "               9: np.mean([55000,64999]), 10: np.mean([65000,74999]), 11: 75000, 12: np.mean([20000, 90000]), 13: np.mean([0, 19999]),\n",
    "               77: np.nan, 99: np.nan}\n",
    "}\n",
    "\n",
    "bd2 = bd.replace(replace_map)"
   ]
  },
  {
   "cell_type": "markdown",
   "id": "8f04108b",
   "metadata": {},
   "source": [
    "Crie a variável phq9 - escore Patient Health Questionnaire-9 como a soma das variáveis DPQ010 a DPQ090"
   ]
  },
  {
   "cell_type": "code",
   "execution_count": 16,
   "id": "63e01784",
   "metadata": {},
   "outputs": [
    {
     "data": {
      "text/html": [
       "<div>\n",
       "<style scoped>\n",
       "    .dataframe tbody tr th:only-of-type {\n",
       "        vertical-align: middle;\n",
       "    }\n",
       "\n",
       "    .dataframe tbody tr th {\n",
       "        vertical-align: top;\n",
       "    }\n",
       "\n",
       "    .dataframe thead th {\n",
       "        text-align: right;\n",
       "    }\n",
       "</style>\n",
       "<table border=\"1\" class=\"dataframe\">\n",
       "  <thead>\n",
       "    <tr style=\"text-align: right;\">\n",
       "      <th></th>\n",
       "      <th>DPQ010</th>\n",
       "      <th>DPQ020</th>\n",
       "      <th>DPQ030</th>\n",
       "      <th>DPQ040</th>\n",
       "      <th>DPQ050</th>\n",
       "      <th>DPQ060</th>\n",
       "      <th>DPQ070</th>\n",
       "      <th>DPQ080</th>\n",
       "      <th>DPQ090</th>\n",
       "      <th>phq9</th>\n",
       "    </tr>\n",
       "  </thead>\n",
       "  <tbody>\n",
       "    <tr>\n",
       "      <th>0</th>\n",
       "      <td>NaN</td>\n",
       "      <td>NaN</td>\n",
       "      <td>NaN</td>\n",
       "      <td>NaN</td>\n",
       "      <td>NaN</td>\n",
       "      <td>NaN</td>\n",
       "      <td>NaN</td>\n",
       "      <td>NaN</td>\n",
       "      <td>NaN</td>\n",
       "      <td>NaN</td>\n",
       "    </tr>\n",
       "    <tr>\n",
       "      <th>1</th>\n",
       "      <td>0.0</td>\n",
       "      <td>0.0</td>\n",
       "      <td>0.0</td>\n",
       "      <td>0.0</td>\n",
       "      <td>0.0</td>\n",
       "      <td>0.0</td>\n",
       "      <td>0.0</td>\n",
       "      <td>0.0</td>\n",
       "      <td>0.0</td>\n",
       "      <td>0.0</td>\n",
       "    </tr>\n",
       "    <tr>\n",
       "      <th>2</th>\n",
       "      <td>0.0</td>\n",
       "      <td>0.0</td>\n",
       "      <td>0.0</td>\n",
       "      <td>0.0</td>\n",
       "      <td>0.0</td>\n",
       "      <td>0.0</td>\n",
       "      <td>0.0</td>\n",
       "      <td>0.0</td>\n",
       "      <td>0.0</td>\n",
       "      <td>0.0</td>\n",
       "    </tr>\n",
       "    <tr>\n",
       "      <th>3</th>\n",
       "      <td>0.0</td>\n",
       "      <td>0.0</td>\n",
       "      <td>0.0</td>\n",
       "      <td>0.0</td>\n",
       "      <td>0.0</td>\n",
       "      <td>0.0</td>\n",
       "      <td>0.0</td>\n",
       "      <td>0.0</td>\n",
       "      <td>0.0</td>\n",
       "      <td>0.0</td>\n",
       "    </tr>\n",
       "    <tr>\n",
       "      <th>4</th>\n",
       "      <td>0.0</td>\n",
       "      <td>0.0</td>\n",
       "      <td>0.0</td>\n",
       "      <td>0.0</td>\n",
       "      <td>3.0</td>\n",
       "      <td>1.0</td>\n",
       "      <td>0.0</td>\n",
       "      <td>0.0</td>\n",
       "      <td>0.0</td>\n",
       "      <td>4.0</td>\n",
       "    </tr>\n",
       "  </tbody>\n",
       "</table>\n",
       "</div>"
      ],
      "text/plain": [
       "   DPQ010  DPQ020  DPQ030  DPQ040  DPQ050  DPQ060  DPQ070  DPQ080  DPQ090  \\\n",
       "0     NaN     NaN     NaN     NaN     NaN     NaN     NaN     NaN     NaN   \n",
       "1     0.0     0.0     0.0     0.0     0.0     0.0     0.0     0.0     0.0   \n",
       "2     0.0     0.0     0.0     0.0     0.0     0.0     0.0     0.0     0.0   \n",
       "3     0.0     0.0     0.0     0.0     0.0     0.0     0.0     0.0     0.0   \n",
       "4     0.0     0.0     0.0     0.0     3.0     1.0     0.0     0.0     0.0   \n",
       "\n",
       "   phq9  \n",
       "0   NaN  \n",
       "1   0.0  \n",
       "2   0.0  \n",
       "3   0.0  \n",
       "4   4.0  "
      ]
     },
     "execution_count": 16,
     "metadata": {},
     "output_type": "execute_result"
    }
   ],
   "source": [
    "bd2[\"phq9\"] = bd2[[\"DPQ010\", \n",
    "                   \"DPQ020\", \n",
    "                   \"DPQ030\", \n",
    "                   \"DPQ040\", \n",
    "                   \"DPQ050\", \n",
    "                   \"DPQ060\", \n",
    "                   \"DPQ070\", \n",
    "                   \"DPQ080\", \n",
    "                   \"DPQ090\"]].sum(axis = 'columns', skipna = False) \n",
    "\n",
    "bd2[[\"DPQ010\", \n",
    "     \"DPQ020\", \n",
    "     \"DPQ030\", \n",
    "     \"DPQ040\",\n",
    "     \"DPQ050\", \n",
    "     \"DPQ060\", \n",
    "     \"DPQ070\", \n",
    "     \"DPQ080\", \n",
    "     \"DPQ090\",\n",
    "     \"phq9\"]].head()"
   ]
  },
  {
   "cell_type": "markdown",
   "id": "180a2077",
   "metadata": {},
   "source": [
    "Crie a variável phq_grp - grupo de sintomas de depressão que assume 0 (“sem sintomas”) se phq9 < 5, 1 (“sintomas leves”) se 5 <= phq9 < 10, 2 (“sintomas moderados”) se 10 <= phq9 < 15, 3 (“sintomas moderadamente severos”) se 15 <= phq9 < 19 e 4 (“sintomas severos”) se phq9 >= 20"
   ]
  },
  {
   "cell_type": "code",
   "execution_count": 17,
   "id": "4ab14688",
   "metadata": {},
   "outputs": [
    {
     "data": {
      "text/plain": [
       "phq_grp\n",
       "0.0        4013\n",
       "1.0         489\n",
       "2.0         201\n",
       "3.0          73\n",
       "4.0          23\n",
       "dtype: int64"
      ]
     },
     "execution_count": 17,
     "metadata": {},
     "output_type": "execute_result"
    }
   ],
   "source": [
    "conditions = [\n",
    "  (bd2['phq9'].isna()),\n",
    "  (bd2['phq9'] <= 5), \n",
    "  (bd2['phq9'] > 5) & (bd2['phq9'] <= 9),\n",
    "  (bd2['phq9'] > 9) & (bd2['phq9'] <= 14),\n",
    "  (bd2['phq9'] > 14) & (bd2['phq9'] <= 19),\n",
    "  (bd2['phq9'] > 19)\n",
    "    ]\n",
    "values = [np.nan, 0, 1, 2, 3, 4]\n",
    "\n",
    "bd2[\"phq_grp\"] = np.select(conditions, values) \n",
    "\n",
    "bd2[[\"phq_grp\"]].value_counts(sort = False) "
   ]
  },
  {
   "cell_type": "markdown",
   "id": "3bf52d2c",
   "metadata": {},
   "source": [
    "### EDA: Análise Univariada"
   ]
  },
  {
   "cell_type": "code",
   "execution_count": 33,
   "id": "d7884ec9",
   "metadata": {},
   "outputs": [],
   "source": [
    "# Como o percentual de missing está abaixo de 10% para todas as variáveis, seguiremos a análise utilizando apenas os dados \n",
    "# completos (dropna)\n",
    "# Criando vetores de variáveis quantitativas\n",
    "var_quant = [\n",
    "    \"RIDAGEYR\", \n",
    "    \"INDFMINC\", \n",
    "    \"PAG_MINW\", \n",
    "    \"HEI2015C1_TOTALVEG\",\n",
    "    \"HEI2015C2_GREEN_AND_BEAN\",\n",
    "    \"HEI2015C3_TOTALFRUIT\",\n",
    "    \"HEI2015C4_WHOLEFRUIT\",\n",
    "    \"HEI2015C5_WHOLEGRAIN\",\n",
    "    \"HEI2015C6_TOTALDAIRY\",\n",
    "    \"HEI2015C7_TOTPROT\",\n",
    "    \"HEI2015C8_SEAPLANT_PROT\",\n",
    "    \"HEI2015C9_FATTYACID\",\n",
    "    \"HEI2015C10_SODIUM\",\n",
    "    \"HEI2015C11_REFINEDGRAIN\",\n",
    "    \"HEI2015C12_SFAT\",\n",
    "    \"HEI2015C13_ADDSUG\",\n",
    "    \"HEI2015_TOTAL_SCORE\",\n",
    "    \"phq9\"]\n",
    "\n",
    "# Criando vetores de variáveis quanlitativas\n",
    "var_quali = [\n",
    "    \"RIAGENDR\",\n",
    "    \"RIDRETH1\",\n",
    "    \"DMDEDUC\",\n",
    "    \"ADHERENCE\",\n",
    "    \"phq_grp2\"\n",
    "]\n",
    "\n",
    "# Para saber o que cada número significa\n",
    "label_quali = {\n",
    "  \"RIAGENDR\": {1: 'Masculino', 2: 'Feminino'},\n",
    "  \"RIDRETH1\": {1: 'Americano Mexicano', 2: 'Outro', 3: 'Branco \\n não hispânico', 4: 'Negro \\n não hispânico'},\n",
    "  \"DMDEDUC\": {1: \"< 9 ano\", 2: \"9-12 ano\", 3: \"Ensino \\n médio\", 4: \"Superior \\n incompleto\", 5: \"Superior \\n completo\"},\n",
    "  \"ADHERENCE\": {1: 'Baixo', 2: 'Adequado', 3: 'Acima'},\n",
    "  \"phq_grp\": {0: \"Sem sintomas\", 1: \"Sintomas \\n leves\", 2: \"Sintomas \\n moderados\",  3:\"Sintomas \\n moderadamente severos\", 4: \"Sintomas \\n severos\" }\n",
    "}"
   ]
  },
  {
   "cell_type": "code",
   "execution_count": 34,
   "id": "56e3567a",
   "metadata": {},
   "outputs": [
    {
     "data": {
      "text/html": [
       "<div>\n",
       "<style scoped>\n",
       "    .dataframe tbody tr th:only-of-type {\n",
       "        vertical-align: middle;\n",
       "    }\n",
       "\n",
       "    .dataframe tbody tr th {\n",
       "        vertical-align: top;\n",
       "    }\n",
       "\n",
       "    .dataframe thead th {\n",
       "        text-align: right;\n",
       "    }\n",
       "</style>\n",
       "<table border=\"1\" class=\"dataframe\">\n",
       "  <thead>\n",
       "    <tr style=\"text-align: right;\">\n",
       "      <th></th>\n",
       "      <th>RIDAGEYR</th>\n",
       "      <th>INDFMINC</th>\n",
       "      <th>PAG_MINW</th>\n",
       "      <th>HEI2015C1_TOTALVEG</th>\n",
       "      <th>HEI2015C2_GREEN_AND_BEAN</th>\n",
       "      <th>HEI2015C3_TOTALFRUIT</th>\n",
       "      <th>HEI2015C4_WHOLEFRUIT</th>\n",
       "      <th>HEI2015C5_WHOLEGRAIN</th>\n",
       "      <th>HEI2015C6_TOTALDAIRY</th>\n",
       "      <th>HEI2015C7_TOTPROT</th>\n",
       "      <th>HEI2015C8_SEAPLANT_PROT</th>\n",
       "      <th>HEI2015C9_FATTYACID</th>\n",
       "      <th>HEI2015C10_SODIUM</th>\n",
       "      <th>HEI2015C11_REFINEDGRAIN</th>\n",
       "      <th>HEI2015C12_SFAT</th>\n",
       "      <th>HEI2015C13_ADDSUG</th>\n",
       "      <th>HEI2015_TOTAL_SCORE</th>\n",
       "      <th>phq9</th>\n",
       "    </tr>\n",
       "  </thead>\n",
       "  <tbody>\n",
       "    <tr>\n",
       "      <th>count</th>\n",
       "      <td>5334.00</td>\n",
       "      <td>5174.00</td>\n",
       "      <td>5334.00</td>\n",
       "      <td>5060.00</td>\n",
       "      <td>5060.00</td>\n",
       "      <td>5060.00</td>\n",
       "      <td>5060.00</td>\n",
       "      <td>5060.00</td>\n",
       "      <td>5060.00</td>\n",
       "      <td>5060.00</td>\n",
       "      <td>5060.00</td>\n",
       "      <td>5060.00</td>\n",
       "      <td>5060.00</td>\n",
       "      <td>5060.00</td>\n",
       "      <td>5060.00</td>\n",
       "      <td>5060.00</td>\n",
       "      <td>5060.00</td>\n",
       "      <td>4799.00</td>\n",
       "    </tr>\n",
       "    <tr>\n",
       "      <th>mean</th>\n",
       "      <td>45.09</td>\n",
       "      <td>40787.68</td>\n",
       "      <td>471.77</td>\n",
       "      <td>3.20</td>\n",
       "      <td>1.81</td>\n",
       "      <td>2.49</td>\n",
       "      <td>2.36</td>\n",
       "      <td>1.76</td>\n",
       "      <td>3.76</td>\n",
       "      <td>4.43</td>\n",
       "      <td>2.59</td>\n",
       "      <td>4.71</td>\n",
       "      <td>4.76</td>\n",
       "      <td>5.80</td>\n",
       "      <td>6.07</td>\n",
       "      <td>6.22</td>\n",
       "      <td>49.97</td>\n",
       "      <td>2.73</td>\n",
       "    </tr>\n",
       "    <tr>\n",
       "      <th>std</th>\n",
       "      <td>20.15</td>\n",
       "      <td>24247.24</td>\n",
       "      <td>780.35</td>\n",
       "      <td>1.47</td>\n",
       "      <td>2.14</td>\n",
       "      <td>1.95</td>\n",
       "      <td>2.17</td>\n",
       "      <td>1.92</td>\n",
       "      <td>1.61</td>\n",
       "      <td>1.01</td>\n",
       "      <td>2.17</td>\n",
       "      <td>3.24</td>\n",
       "      <td>3.42</td>\n",
       "      <td>3.50</td>\n",
       "      <td>3.18</td>\n",
       "      <td>3.33</td>\n",
       "      <td>12.32</td>\n",
       "      <td>3.73</td>\n",
       "    </tr>\n",
       "    <tr>\n",
       "      <th>min</th>\n",
       "      <td>18.00</td>\n",
       "      <td>2499.50</td>\n",
       "      <td>0.00</td>\n",
       "      <td>0.00</td>\n",
       "      <td>0.00</td>\n",
       "      <td>0.00</td>\n",
       "      <td>0.00</td>\n",
       "      <td>0.00</td>\n",
       "      <td>0.00</td>\n",
       "      <td>0.00</td>\n",
       "      <td>0.00</td>\n",
       "      <td>0.00</td>\n",
       "      <td>0.00</td>\n",
       "      <td>0.00</td>\n",
       "      <td>0.00</td>\n",
       "      <td>0.00</td>\n",
       "      <td>16.06</td>\n",
       "      <td>0.00</td>\n",
       "    </tr>\n",
       "    <tr>\n",
       "      <th>25%</th>\n",
       "      <td>27.00</td>\n",
       "      <td>17499.50</td>\n",
       "      <td>35.00</td>\n",
       "      <td>2.06</td>\n",
       "      <td>0.00</td>\n",
       "      <td>0.45</td>\n",
       "      <td>0.00</td>\n",
       "      <td>0.00</td>\n",
       "      <td>2.59</td>\n",
       "      <td>4.17</td>\n",
       "      <td>0.00</td>\n",
       "      <td>2.02</td>\n",
       "      <td>1.59</td>\n",
       "      <td>2.93</td>\n",
       "      <td>3.70</td>\n",
       "      <td>3.72</td>\n",
       "      <td>41.03</td>\n",
       "      <td>0.00</td>\n",
       "    </tr>\n",
       "    <tr>\n",
       "      <th>50%</th>\n",
       "      <td>43.00</td>\n",
       "      <td>39999.50</td>\n",
       "      <td>210.00</td>\n",
       "      <td>3.22</td>\n",
       "      <td>0.06</td>\n",
       "      <td>2.32</td>\n",
       "      <td>2.08</td>\n",
       "      <td>1.03</td>\n",
       "      <td>4.94</td>\n",
       "      <td>5.00</td>\n",
       "      <td>2.59</td>\n",
       "      <td>4.43</td>\n",
       "      <td>4.83</td>\n",
       "      <td>6.23</td>\n",
       "      <td>6.41</td>\n",
       "      <td>6.86</td>\n",
       "      <td>49.51</td>\n",
       "      <td>1.00</td>\n",
       "    </tr>\n",
       "    <tr>\n",
       "      <th>75%</th>\n",
       "      <td>62.00</td>\n",
       "      <td>69999.50</td>\n",
       "      <td>568.93</td>\n",
       "      <td>4.83</td>\n",
       "      <td>4.50</td>\n",
       "      <td>4.94</td>\n",
       "      <td>5.00</td>\n",
       "      <td>3.41</td>\n",
       "      <td>5.00</td>\n",
       "      <td>5.00</td>\n",
       "      <td>5.00</td>\n",
       "      <td>7.27</td>\n",
       "      <td>7.65</td>\n",
       "      <td>9.25</td>\n",
       "      <td>9.00</td>\n",
       "      <td>9.45</td>\n",
       "      <td>58.17</td>\n",
       "      <td>4.00</td>\n",
       "    </tr>\n",
       "    <tr>\n",
       "      <th>95%</th>\n",
       "      <td>81.00</td>\n",
       "      <td>75000.00</td>\n",
       "      <td>1863.05</td>\n",
       "      <td>5.00</td>\n",
       "      <td>5.00</td>\n",
       "      <td>5.00</td>\n",
       "      <td>5.00</td>\n",
       "      <td>5.00</td>\n",
       "      <td>5.00</td>\n",
       "      <td>5.00</td>\n",
       "      <td>5.00</td>\n",
       "      <td>10.00</td>\n",
       "      <td>10.00</td>\n",
       "      <td>10.00</td>\n",
       "      <td>10.00</td>\n",
       "      <td>10.00</td>\n",
       "      <td>71.19</td>\n",
       "      <td>10.00</td>\n",
       "    </tr>\n",
       "    <tr>\n",
       "      <th>99%</th>\n",
       "      <td>85.00</td>\n",
       "      <td>75000.00</td>\n",
       "      <td>3672.06</td>\n",
       "      <td>5.00</td>\n",
       "      <td>5.00</td>\n",
       "      <td>5.00</td>\n",
       "      <td>5.00</td>\n",
       "      <td>5.00</td>\n",
       "      <td>5.00</td>\n",
       "      <td>5.00</td>\n",
       "      <td>5.00</td>\n",
       "      <td>10.00</td>\n",
       "      <td>10.00</td>\n",
       "      <td>10.00</td>\n",
       "      <td>10.00</td>\n",
       "      <td>10.00</td>\n",
       "      <td>79.86</td>\n",
       "      <td>17.00</td>\n",
       "    </tr>\n",
       "    <tr>\n",
       "      <th>max</th>\n",
       "      <td>85.00</td>\n",
       "      <td>75000.00</td>\n",
       "      <td>10777.83</td>\n",
       "      <td>5.00</td>\n",
       "      <td>5.00</td>\n",
       "      <td>5.00</td>\n",
       "      <td>5.00</td>\n",
       "      <td>5.00</td>\n",
       "      <td>5.00</td>\n",
       "      <td>5.00</td>\n",
       "      <td>5.00</td>\n",
       "      <td>10.00</td>\n",
       "      <td>10.00</td>\n",
       "      <td>10.00</td>\n",
       "      <td>10.00</td>\n",
       "      <td>10.00</td>\n",
       "      <td>89.53</td>\n",
       "      <td>27.00</td>\n",
       "    </tr>\n",
       "  </tbody>\n",
       "</table>\n",
       "</div>"
      ],
      "text/plain": [
       "       RIDAGEYR  INDFMINC  PAG_MINW  HEI2015C1_TOTALVEG  \\\n",
       "count   5334.00   5174.00   5334.00             5060.00   \n",
       "mean      45.09  40787.68    471.77                3.20   \n",
       "std       20.15  24247.24    780.35                1.47   \n",
       "min       18.00   2499.50      0.00                0.00   \n",
       "25%       27.00  17499.50     35.00                2.06   \n",
       "50%       43.00  39999.50    210.00                3.22   \n",
       "75%       62.00  69999.50    568.93                4.83   \n",
       "95%       81.00  75000.00   1863.05                5.00   \n",
       "99%       85.00  75000.00   3672.06                5.00   \n",
       "max       85.00  75000.00  10777.83                5.00   \n",
       "\n",
       "       HEI2015C2_GREEN_AND_BEAN  HEI2015C3_TOTALFRUIT  HEI2015C4_WHOLEFRUIT  \\\n",
       "count                   5060.00               5060.00               5060.00   \n",
       "mean                       1.81                  2.49                  2.36   \n",
       "std                        2.14                  1.95                  2.17   \n",
       "min                        0.00                  0.00                  0.00   \n",
       "25%                        0.00                  0.45                  0.00   \n",
       "50%                        0.06                  2.32                  2.08   \n",
       "75%                        4.50                  4.94                  5.00   \n",
       "95%                        5.00                  5.00                  5.00   \n",
       "99%                        5.00                  5.00                  5.00   \n",
       "max                        5.00                  5.00                  5.00   \n",
       "\n",
       "       HEI2015C5_WHOLEGRAIN  HEI2015C6_TOTALDAIRY  HEI2015C7_TOTPROT  \\\n",
       "count               5060.00               5060.00            5060.00   \n",
       "mean                   1.76                  3.76               4.43   \n",
       "std                    1.92                  1.61               1.01   \n",
       "min                    0.00                  0.00               0.00   \n",
       "25%                    0.00                  2.59               4.17   \n",
       "50%                    1.03                  4.94               5.00   \n",
       "75%                    3.41                  5.00               5.00   \n",
       "95%                    5.00                  5.00               5.00   \n",
       "99%                    5.00                  5.00               5.00   \n",
       "max                    5.00                  5.00               5.00   \n",
       "\n",
       "       HEI2015C8_SEAPLANT_PROT  HEI2015C9_FATTYACID  HEI2015C10_SODIUM  \\\n",
       "count                  5060.00              5060.00            5060.00   \n",
       "mean                      2.59                 4.71               4.76   \n",
       "std                       2.17                 3.24               3.42   \n",
       "min                       0.00                 0.00               0.00   \n",
       "25%                       0.00                 2.02               1.59   \n",
       "50%                       2.59                 4.43               4.83   \n",
       "75%                       5.00                 7.27               7.65   \n",
       "95%                       5.00                10.00              10.00   \n",
       "99%                       5.00                10.00              10.00   \n",
       "max                       5.00                10.00              10.00   \n",
       "\n",
       "       HEI2015C11_REFINEDGRAIN  HEI2015C12_SFAT  HEI2015C13_ADDSUG  \\\n",
       "count                  5060.00          5060.00            5060.00   \n",
       "mean                      5.80             6.07               6.22   \n",
       "std                       3.50             3.18               3.33   \n",
       "min                       0.00             0.00               0.00   \n",
       "25%                       2.93             3.70               3.72   \n",
       "50%                       6.23             6.41               6.86   \n",
       "75%                       9.25             9.00               9.45   \n",
       "95%                      10.00            10.00              10.00   \n",
       "99%                      10.00            10.00              10.00   \n",
       "max                      10.00            10.00              10.00   \n",
       "\n",
       "       HEI2015_TOTAL_SCORE     phq9  \n",
       "count              5060.00  4799.00  \n",
       "mean                 49.97     2.73  \n",
       "std                  12.32     3.73  \n",
       "min                  16.06     0.00  \n",
       "25%                  41.03     0.00  \n",
       "50%                  49.51     1.00  \n",
       "75%                  58.17     4.00  \n",
       "95%                  71.19    10.00  \n",
       "99%                  79.86    17.00  \n",
       "max                  89.53    27.00  "
      ]
     },
     "execution_count": 34,
     "metadata": {},
     "output_type": "execute_result"
    }
   ],
   "source": [
    "bd2[var_quant].describe(percentiles = [.25, .5, .75, .95, .99]).round(2)"
   ]
  },
  {
   "cell_type": "code",
   "execution_count": null,
   "id": "2a80be81",
   "metadata": {},
   "outputs": [],
   "source": [
    "# Dado que uma semana tem no máximo 168 horas (10080 minutos) o valor máximo de PAG_MINW não parece ser um valor possível. \n",
    "# Nesse caso, iremos truncar o valor de PAG_MINW em 3600 minutos (60h semanais)."
   ]
  },
  {
   "cell_type": "code",
   "execution_count": 35,
   "id": "c6b80bdb",
   "metadata": {},
   "outputs": [
    {
     "data": {
      "text/html": [
       "<div>\n",
       "<style scoped>\n",
       "    .dataframe tbody tr th:only-of-type {\n",
       "        vertical-align: middle;\n",
       "    }\n",
       "\n",
       "    .dataframe tbody tr th {\n",
       "        vertical-align: top;\n",
       "    }\n",
       "\n",
       "    .dataframe thead th {\n",
       "        text-align: right;\n",
       "    }\n",
       "</style>\n",
       "<table border=\"1\" class=\"dataframe\">\n",
       "  <thead>\n",
       "    <tr style=\"text-align: right;\">\n",
       "      <th></th>\n",
       "      <th>PAG_MINW</th>\n",
       "      <th>PAG_MINW_trunc</th>\n",
       "    </tr>\n",
       "  </thead>\n",
       "  <tbody>\n",
       "    <tr>\n",
       "      <th>count</th>\n",
       "      <td>5334.00</td>\n",
       "      <td>5334.00</td>\n",
       "    </tr>\n",
       "    <tr>\n",
       "      <th>mean</th>\n",
       "      <td>471.77</td>\n",
       "      <td>454.86</td>\n",
       "    </tr>\n",
       "    <tr>\n",
       "      <th>std</th>\n",
       "      <td>780.35</td>\n",
       "      <td>663.05</td>\n",
       "    </tr>\n",
       "    <tr>\n",
       "      <th>min</th>\n",
       "      <td>0.00</td>\n",
       "      <td>0.00</td>\n",
       "    </tr>\n",
       "    <tr>\n",
       "      <th>25%</th>\n",
       "      <td>35.00</td>\n",
       "      <td>35.00</td>\n",
       "    </tr>\n",
       "    <tr>\n",
       "      <th>50%</th>\n",
       "      <td>210.00</td>\n",
       "      <td>210.00</td>\n",
       "    </tr>\n",
       "    <tr>\n",
       "      <th>75%</th>\n",
       "      <td>568.93</td>\n",
       "      <td>568.93</td>\n",
       "    </tr>\n",
       "    <tr>\n",
       "      <th>95%</th>\n",
       "      <td>1863.05</td>\n",
       "      <td>1863.05</td>\n",
       "    </tr>\n",
       "    <tr>\n",
       "      <th>99%</th>\n",
       "      <td>3672.06</td>\n",
       "      <td>3600.00</td>\n",
       "    </tr>\n",
       "    <tr>\n",
       "      <th>max</th>\n",
       "      <td>10777.83</td>\n",
       "      <td>3600.00</td>\n",
       "    </tr>\n",
       "  </tbody>\n",
       "</table>\n",
       "</div>"
      ],
      "text/plain": [
       "       PAG_MINW  PAG_MINW_trunc\n",
       "count   5334.00         5334.00\n",
       "mean     471.77          454.86\n",
       "std      780.35          663.05\n",
       "min        0.00            0.00\n",
       "25%       35.00           35.00\n",
       "50%      210.00          210.00\n",
       "75%      568.93          568.93\n",
       "95%     1863.05         1863.05\n",
       "99%     3672.06         3600.00\n",
       "max    10777.83         3600.00"
      ]
     },
     "execution_count": 35,
     "metadata": {},
     "output_type": "execute_result"
    }
   ],
   "source": [
    "bd2['PAG_MINW_trunc'] = np.where(bd2['PAG_MINW'] > 3600, 3600, bd2['PAG_MINW']) \n",
    "bd2[['PAG_MINW', 'PAG_MINW_trunc']].describe(percentiles = [.25, .5, .75, .95, .99]).round(2) "
   ]
  },
  {
   "cell_type": "code",
   "execution_count": 36,
   "id": "538fbe49",
   "metadata": {},
   "outputs": [],
   "source": [
    "# Transformar a variável PAG_MINW em horas para facilitar a interpretação\n",
    "bd2[\"PAG_HRW\"] = bd2[\"PAG_MINW_trunc\"]/60"
   ]
  },
  {
   "cell_type": "code",
   "execution_count": 23,
   "id": "8dbd64d5",
   "metadata": {},
   "outputs": [
    {
     "data": {
      "image/png": "[encoded data removed]",
      "text/plain": [
       "<Figure size 360x360 with 1 Axes>"
      ]
     },
     "metadata": {
      "needs_background": "light"
     },
     "output_type": "display_data"
    },
    {
     "data": {
      "image/png": "[encoded data removed]",
      "text/plain": [
       "<Figure size 360x360 with 1 Axes>"
      ]
     },
     "metadata": {
      "needs_background": "light"
     },
     "output_type": "display_data"
    },
    {
     "data": {
      "image/png": "[encoded data removed]",
      "text/plain": [
       "<Figure size 360x360 with 1 Axes>"
      ]
     },
     "metadata": {
      "needs_background": "light"
     },
     "output_type": "display_data"
    },
    {
     "data": {
      "image/png": "[encoded data removed]",
      "text/plain": [
       "<Figure size 360x360 with 1 Axes>"
      ]
     },
     "metadata": {
      "needs_background": "light"
     },
     "output_type": "display_data"
    }
   ],
   "source": [
    "#Histograma das variáveis contínuas/quantitativas\n",
    "sns.displot(bd2, x=\"RIDAGEYR\", kde=True) #idade é bem distribuida, apesar de ter pessoas mais jovens (20 anos)\n",
    "sns.displot(bd2, x=\"INDFMINC\", kde=True) #renda\n",
    "sns.displot(bd2, x=\"PAG_MINW_trunc\", kde=True) #exercício físico truncado\n",
    "sns.displot(bd2, x=\"PAG_HRW\", kde=True) #exercício físico hora. Boa parte das pessoas não faz exercício nenhum, tem pico no 0\n",
    "plt.show()"
   ]
  },
  {
   "cell_type": "code",
   "execution_count": 24,
   "id": "48d4c971",
   "metadata": {},
   "outputs": [
    {
     "data": {
      "image/png": "[encoded data removed]",
      "text/plain": [
       "<Figure size 360x360 with 1 Axes>"
      ]
     },
     "metadata": {
      "needs_background": "light"
     },
     "output_type": "display_data"
    }
   ],
   "source": [
    "# A variável PAG_HRW é bastante assimétrica, por isso criar uma versão com o log (diminui as diferenças entre eles)\n",
    "# Isso foi feito também porque no teste de hipóteses, uma hipótese é os dados normais\n",
    "bd2[\"PAG_HRW_log\"] = np.log(bd2[\"PAG_HRW\"] + 1)\n",
    "sns.displot(bd2, x=\"PAG_HRW_log\", kde=True)\n",
    "plt.show()"
   ]
  },
  {
   "cell_type": "code",
   "execution_count": 25,
   "id": "7dbc67fd",
   "metadata": {},
   "outputs": [],
   "source": [
    "# Função para construir gráfico de barras (para variáveis qualitativas)\n",
    "\n",
    "def grafico_barras_prop(data, variable):\n",
    "    (data[[variable]]\n",
    "     .value_counts(normalize=True, sort = False)\n",
    "     .rename(\"Proportion\")\n",
    "     .reset_index()\n",
    "     .pipe((sns.barplot, \"data\"), x=variable, y=\"Proportion\"))\n",
    "    plt.ylim(0,1)\n",
    "    plt.show()"
   ]
  },
  {
   "cell_type": "code",
   "execution_count": 26,
   "id": "c4750f76",
   "metadata": {},
   "outputs": [
    {
     "data": {
      "image/png": "[encoded data removed]",
      "text/plain": [
       "<Figure size 432x288 with 1 Axes>"
      ]
     },
     "metadata": {
      "needs_background": "light"
     },
     "output_type": "display_data"
    }
   ],
   "source": [
    "grafico_barras_prop(bd2.replace(label_quali), variable = \"RIAGENDR\")"
   ]
  },
  {
   "cell_type": "code",
   "execution_count": 27,
   "id": "c7b7161e",
   "metadata": {},
   "outputs": [
    {
     "data": {
      "image/png": "[encoded data removed]",
      "text/plain": [
       "<Figure size 432x288 with 1 Axes>"
      ]
     },
     "metadata": {
      "needs_background": "light"
     },
     "output_type": "display_data"
    }
   ],
   "source": [
    "grafico_barras_prop(bd2.replace(label_quali), \n",
    "                    variable = \"RIDRETH1\")"
   ]
  },
  {
   "cell_type": "code",
   "execution_count": 28,
   "id": "de6ba5e1",
   "metadata": {},
   "outputs": [
    {
     "data": {
      "image/png": "[encoded data removed]",
      "text/plain": [
       "<Figure size 432x288 with 1 Axes>"
      ]
     },
     "metadata": {
      "needs_background": "light"
     },
     "output_type": "display_data"
    }
   ],
   "source": [
    "grafico_barras_prop(bd2.replace(label_quali), \n",
    "                    variable = \"DMDEDUC\")"
   ]
  },
  {
   "cell_type": "code",
   "execution_count": 29,
   "id": "774b14f7",
   "metadata": {},
   "outputs": [
    {
     "data": {
      "image/png": "[encoded data removed]",
      "text/plain": [
       "<Figure size 432x288 with 1 Axes>"
      ]
     },
     "metadata": {
      "needs_background": "light"
     },
     "output_type": "display_data"
    }
   ],
   "source": [
    "grafico_barras_prop(bd2.replace(label_quali), \n",
    "                    variable = \"ADHERENCE\")"
   ]
  },
  {
   "cell_type": "code",
   "execution_count": 37,
   "id": "c6c3e471",
   "metadata": {},
   "outputs": [
    {
     "data": {
      "image/png": "[encoded data removed]",
      "text/plain": [
       "<Figure size 432x288 with 1 Axes>"
      ]
     },
     "metadata": {
      "needs_background": "light"
     },
     "output_type": "display_data"
    }
   ],
   "source": [
    "grafico_barras_prop(bd2.replace(label_quali), \n",
    "                    variable = \"phq_grp\")"
   ]
  },
  {
   "cell_type": "markdown",
   "id": "3fc1eef4",
   "metadata": {},
   "source": [
    "### EDA: Análise Bivariada e Testes de Hipóteses"
   ]
  },
  {
   "cell_type": "code",
   "execution_count": 31,
   "id": "55dfad7d",
   "metadata": {},
   "outputs": [],
   "source": [
    "# Função para construir boxplot para uma variável quantitativa versus grupo de depressão\n",
    "\n",
    "def grafico_boxplot_grp(data, variable, label):\n",
    "    \n",
    "    if label == \"\": label = variable\n",
    "    sns.boxplot(x=\"phq_grp\", y=variable, data=data)\n",
    "    plt.ylabel(label)\n",
    "    plt.show()"
   ]
  },
  {
   "cell_type": "markdown",
   "id": "2b2e893f",
   "metadata": {},
   "source": [
    "A) Perfil com maiores incidências de sintomas de depressão"
   ]
  },
  {
   "cell_type": "code",
   "execution_count": 38,
   "id": "314feaa0",
   "metadata": {},
   "outputs": [
    {
     "data": {
      "image/png": "[encoded data removed]",
      "text/plain": [
       "<Figure size 432x288 with 1 Axes>"
      ]
     },
     "metadata": {
      "needs_background": "light"
     },
     "output_type": "display_data"
    }
   ],
   "source": [
    "# Idade\n",
    "grafico_boxplot_grp(bd2.replace(label_quali), \"RIDAGEYR\", \"Idade\")\n",
    "# De acordo com a mediana, sem sintomas e sintomas leves não parecem ter muita diferença, mas outros um pouco"
   ]
  },
  {
   "cell_type": "code",
   "execution_count": 42,
   "id": "1f7bc129",
   "metadata": {},
   "outputs": [
    {
     "name": "stdout",
     "output_type": "stream",
     "text": [
      "stat=0.558, p=0.693\n"
     ]
    }
   ],
   "source": [
    "# Teste de hipóteses para ver se tem diferença na média de idade para sintomas de depressão\n",
    "\n",
    "from scipy.stats import f_oneway \n",
    "\n",
    "bd_aux = bd2[[\"phq_grp\", \"RIDAGEYR\"]].dropna() \n",
    "\n",
    "stat, p = f_oneway(bd_aux[(bd_aux.phq_grp == 0)][\"RIDAGEYR\"],\n",
    "                   bd_aux[(bd_aux.phq_grp == 1)][\"RIDAGEYR\"],\n",
    "                   bd_aux[(bd_aux.phq_grp == 2)][\"RIDAGEYR\"],\n",
    "                   bd_aux[(bd_aux.phq_grp == 3)][\"RIDAGEYR\"],\n",
    "                   bd_aux[(bd_aux.phq_grp == 4)][\"RIDAGEYR\"])\n",
    "\n",
    "print('stat=%.3f, p=%.3f' % (stat, p))\n"
   ]
  },
  {
   "cell_type": "code",
   "execution_count": null,
   "id": "e7e35ddf",
   "metadata": {},
   "outputs": [],
   "source": [
    "# Hipótese nula = não tem diferença entre grupos\n",
    "# Hipótese alternativa: tem diferença entre pelo menos um grupo\n",
    "# Aceita hipótese nula, Não foi identificado diferença na média de idade dos grupos com depressão"
   ]
  },
  {
   "cell_type": "code",
   "execution_count": 43,
   "id": "c06fa518",
   "metadata": {},
   "outputs": [
    {
     "data": {
      "image/png": "[encoded data removed]",
      "text/plain": [
       "<Figure size 432x288 with 1 Axes>"
      ]
     },
     "metadata": {
      "needs_background": "light"
     },
     "output_type": "display_data"
    }
   ],
   "source": [
    "# Renda\n",
    "grafico_boxplot_grp(bd2.replace(label_quali), \"INDFMINC\", \"Renda Anual Familiar (US$)\")\n",
    "# Parece que renda diminui conforme os sintomas ficam mais severos"
   ]
  },
  {
   "cell_type": "code",
   "execution_count": 47,
   "id": "259196e9",
   "metadata": {},
   "outputs": [
    {
     "name": "stdout",
     "output_type": "stream",
     "text": [
      "stat=25.868, p=0.000\n"
     ]
    }
   ],
   "source": [
    "#Teste de hipóteses\n",
    "\n",
    "from scipy.stats import f_oneway\n",
    "\n",
    "bd_aux = bd2[[\"phq_grp\", \"INDFMINC\"]].dropna()\n",
    "\n",
    "stat, p = f_oneway(bd_aux[(bd_aux.phq_grp == 0)][\"INDFMINC\"],\n",
    "                   bd_aux[(bd_aux.phq_grp == 1)][\"INDFMINC\"],\n",
    "                   bd_aux[(bd_aux.phq_grp == 2)][\"INDFMINC\"],\n",
    "                   bd_aux[(bd_aux.phq_grp == 3)][\"INDFMINC\"],\n",
    "                   bd_aux[(bd_aux.phq_grp == 4)][\"INDFMINC\"])\n",
    "\n",
    "print('stat=%.3f, p=%.3f' % (stat, p))"
   ]
  },
  {
   "cell_type": "code",
   "execution_count": null,
   "id": "c3146751",
   "metadata": {},
   "outputs": [],
   "source": [
    "# Valor p bem baixo, logo, tem diferença\n",
    "# H0: Não tem diferença na média de renda conforme os níveis de sintomas\n",
    "# Rejeita hipótese nula, pois tem diferença"
   ]
  },
  {
   "cell_type": "code",
   "execution_count": 48,
   "id": "a1b94acc",
   "metadata": {},
   "outputs": [
    {
     "name": "stdout",
     "output_type": "stream",
     "text": [
      "     Multiple Comparison of Means - Tukey HSD, FWER=0.05      \n",
      "==============================================================\n",
      "group1 group2   meandiff  p-adj     lower      upper    reject\n",
      "--------------------------------------------------------------\n",
      "   0.0    1.0  -5537.0284  0.001  -8759.6683 -2314.3885   True\n",
      "   0.0    2.0 -12328.1821  0.001 -17118.7904 -7537.5738   True\n",
      "   0.0    3.0 -14625.6659  0.001 -22501.5045 -6749.8273   True\n",
      "   0.0    4.0 -20914.0609  0.001 -34975.6407 -6852.4811   True\n",
      "   1.0    2.0  -6791.1537  0.008 -12370.5806 -1211.7268   True\n",
      "   1.0    3.0  -9088.6375 0.0257 -17467.7132  -709.5617   True\n",
      "   1.0    4.0 -15377.0325 0.0286 -29726.5309 -1027.5341   True\n",
      "   2.0    3.0  -2297.4838    0.9 -11395.4743  6800.5067  False\n",
      "   2.0    4.0  -8585.8788 0.5058 -23366.6982  6194.9407  False\n",
      "   3.0    4.0   -6288.395 0.7985 -22336.8071   9760.017  False\n",
      "--------------------------------------------------------------\n"
     ]
    }
   ],
   "source": [
    "# Como foi visto que tem diferença, é feito teste Tukey para saber em quais grupos ela está\n",
    "\n",
    "from statsmodels.stats.multicomp import pairwise_tukeyhsd\n",
    "\n",
    "tukey = pairwise_tukeyhsd(bd_aux['INDFMINC'], #variável quantitativa\n",
    "                  bd_aux['phq_grp'], #grupo\n",
    "                  alpha = 0.05) #nível de significância\n",
    "\n",
    "print(tukey)\n",
    "# Nas opções 'False' não há diferença"
   ]
  },
  {
   "cell_type": "code",
   "execution_count": 49,
   "id": "bbf32396",
   "metadata": {},
   "outputs": [
    {
     "data": {
      "image/png": "[encoded data removed]",
      "text/plain": [
       "<Figure size 432x288 with 1 Axes>"
      ]
     },
     "metadata": {
      "needs_background": "light"
     },
     "output_type": "display_data"
    }
   ],
   "source": [
    "# Atividade física\n",
    "grafico_boxplot_grp(bd2.replace(label_quali), \"PAG_HRW_log\", \"Log Atividade Física (h/semana)\")"
   ]
  },
  {
   "cell_type": "code",
   "execution_count": 50,
   "id": "f19bbbe9",
   "metadata": {},
   "outputs": [
    {
     "name": "stdout",
     "output_type": "stream",
     "text": [
      "stat=15.673, p=0.000\n"
     ]
    }
   ],
   "source": [
    "from scipy.stats import f_oneway\n",
    "\n",
    "bd_aux = bd2[[\"phq_grp\", \"PAG_HRW_log\"]].dropna()\n",
    "\n",
    "stat, p = f_oneway(bd_aux[(bd_aux.phq_grp == 0)][\"PAG_HRW_log\"],\n",
    "                   bd_aux[(bd_aux.phq_grp == 1)][\"PAG_HRW_log\"],\n",
    "                   bd_aux[(bd_aux.phq_grp == 2)][\"PAG_HRW_log\"],\n",
    "                   bd_aux[(bd_aux.phq_grp == 3)][\"PAG_HRW_log\"],\n",
    "                   bd_aux[(bd_aux.phq_grp == 4)][\"PAG_HRW_log\"])\n",
    "\n",
    "print('stat=%.3f, p=%.3f' % (stat, p))"
   ]
  },
  {
   "cell_type": "code",
   "execution_count": null,
   "id": "82371b63",
   "metadata": {},
   "outputs": [],
   "source": [
    "# Tem diferença, rejeita hipótese nula."
   ]
  },
  {
   "cell_type": "code",
   "execution_count": 51,
   "id": "9a9778a1",
   "metadata": {},
   "outputs": [
    {
     "name": "stdout",
     "output_type": "stream",
     "text": [
      "Multiple Comparison of Means - Tukey HSD, FWER=0.05 \n",
      "====================================================\n",
      "group1 group2 meandiff p-adj   lower   upper  reject\n",
      "----------------------------------------------------\n",
      "   0.0    1.0  -0.1483 0.0451 -0.2945  -0.002   True\n",
      "   0.0    2.0  -0.4958  0.001 -0.7165 -0.2751   True\n",
      "   0.0    3.0  -0.5161  0.001 -0.8767 -0.1554   True\n",
      "   0.0    4.0  -0.6398 0.0493 -1.2783 -0.0012   True\n",
      "   1.0    2.0  -0.3475  0.002 -0.6034 -0.0916   True\n",
      "   1.0    3.0  -0.3678 0.0672 -0.7509  0.0154  False\n",
      "   1.0    4.0  -0.4915 0.2384  -1.143    0.16  False\n",
      "   2.0    3.0  -0.0203    0.9 -0.4376   0.397  False\n",
      "   2.0    4.0   -0.144    0.9 -0.8162  0.5282  False\n",
      "   3.0    4.0  -0.1237    0.9 -0.8539  0.6065  False\n",
      "----------------------------------------------------\n"
     ]
    }
   ],
   "source": [
    "from statsmodels.stats.multicomp import pairwise_tukeyhsd\n",
    "\n",
    "tukey = pairwise_tukeyhsd(bd_aux['PAG_HRW_log'],\n",
    "                  bd_aux['phq_grp'],\n",
    "                  alpha = 0.05)\n",
    "\n",
    "print(tukey)"
   ]
  },
  {
   "cell_type": "code",
   "execution_count": 52,
   "id": "7faf9014",
   "metadata": {},
   "outputs": [
    {
     "data": {
      "image/png": "[encoded data removed]",
      "text/plain": [
       "<Figure size 432x288 with 1 Axes>"
      ]
     },
     "metadata": {
      "needs_background": "light"
     },
     "output_type": "display_data"
    }
   ],
   "source": [
    "# Alimentação\n",
    "grafico_boxplot_grp(bd2.replace(label_quali), \"HEI2015_TOTAL_SCORE\", \"HEI - Escore total\")"
   ]
  },
  {
   "cell_type": "code",
   "execution_count": 53,
   "id": "af4d466f",
   "metadata": {},
   "outputs": [
    {
     "name": "stdout",
     "output_type": "stream",
     "text": [
      "stat=4.231, p=0.002\n"
     ]
    }
   ],
   "source": [
    "from scipy.stats import f_oneway\n",
    "\n",
    "bd_aux = bd2[[\"phq_grp\", \"HEI2015_TOTAL_SCORE\"]].dropna()\n",
    "\n",
    "stat, p = f_oneway(bd_aux[(bd_aux.phq_grp == 0)][\"HEI2015_TOTAL_SCORE\"],\n",
    "                   bd_aux[(bd_aux.phq_grp == 1)][\"HEI2015_TOTAL_SCORE\"],\n",
    "                   bd_aux[(bd_aux.phq_grp == 2)][\"HEI2015_TOTAL_SCORE\"],\n",
    "                   bd_aux[(bd_aux.phq_grp == 3)][\"HEI2015_TOTAL_SCORE\"],\n",
    "                   bd_aux[(bd_aux.phq_grp == 4)][\"HEI2015_TOTAL_SCORE\"])\n",
    "\n",
    "print('stat=%.3f, p=%.3f' % (stat, p))"
   ]
  },
  {
   "cell_type": "code",
   "execution_count": 55,
   "id": "7973e33a",
   "metadata": {},
   "outputs": [
    {
     "name": "stdout",
     "output_type": "stream",
     "text": [
      "Multiple Comparison of Means - Tukey HSD, FWER=0.05 \n",
      "====================================================\n",
      "group1 group2 meandiff p-adj   lower   upper  reject\n",
      "----------------------------------------------------\n",
      "   0.0    1.0  -1.1066 0.3467  -2.7413  0.528  False\n",
      "   0.0    2.0  -1.8512 0.2456  -4.3239 0.6216  False\n",
      "   0.0    3.0  -3.5486 0.1142  -7.5748 0.4776  False\n",
      "   0.0    4.0  -5.7943 0.1623 -12.8258 1.2372  False\n",
      "   1.0    2.0  -0.7446    0.9  -3.6104 2.1212  False\n",
      "   1.0    3.0   -2.442 0.5216  -6.7209 1.8369  False\n",
      "   1.0    4.0  -4.6876 0.3855 -11.8668 2.4915  False\n",
      "   2.0    3.0  -1.6974 0.8417  -6.3613 2.9664  False\n",
      "   2.0    4.0  -3.9431 0.5819 -11.3581  3.472  False\n",
      "   3.0    4.0  -2.2456    0.9 -10.3128 5.8215  False\n",
      "----------------------------------------------------\n"
     ]
    }
   ],
   "source": [
    "from statsmodels.stats.multicomp import pairwise_tukeyhsd\n",
    "\n",
    "tukey = pairwise_tukeyhsd(bd_aux['HEI2015_TOTAL_SCORE'],\n",
    "                  bd_aux['phq_grp'],\n",
    "                  alpha = 0.05)\n",
    "\n",
    "print(tukey)"
   ]
  },
  {
   "cell_type": "markdown",
   "id": "5b9e7626",
   "metadata": {},
   "source": [
    "B) Perfil de hábitos saudáveis"
   ]
  },
  {
   "cell_type": "code",
   "execution_count": 57,
   "id": "ce39a3e6",
   "metadata": {},
   "outputs": [
    {
     "data": {
      "image/png": "[encoded data removed]",
      "text/plain": [
       "<Figure size 432x288 with 1 Axes>"
      ]
     },
     "metadata": {
      "needs_background": "light"
     },
     "output_type": "display_data"
    }
   ],
   "source": [
    "# Alimentação saudável x Exercícios Físicos\n",
    "sns.boxplot(y=\"ADHERENCE\", \n",
    "            x=\"HEI2015_TOTAL_SCORE\", \n",
    "            orient=\"h\",\n",
    "            data=bd2.replace(label_quali))\n",
    "plt.show()"
   ]
  },
  {
   "cell_type": "code",
   "execution_count": 59,
   "id": "07e8c068",
   "metadata": {},
   "outputs": [
    {
     "name": "stdout",
     "output_type": "stream",
     "text": [
      "stat=4.122, p=0.016\n"
     ]
    }
   ],
   "source": [
    "from scipy.stats import f_oneway\n",
    "\n",
    "bd_aux = bd2[[\"ADHERENCE\", \"HEI2015_TOTAL_SCORE\"]].dropna()\n",
    "\n",
    "stat, p = f_oneway(bd_aux[(bd_aux.ADHERENCE == 1)][\"HEI2015_TOTAL_SCORE\"],\n",
    "                   bd_aux[(bd_aux.ADHERENCE == 2)][\"HEI2015_TOTAL_SCORE\"],\n",
    "                   bd_aux[(bd_aux.ADHERENCE == 3)][\"HEI2015_TOTAL_SCORE\"])\n",
    "\n",
    "print('stat=%.3f, p=%.3f' % (stat, p))"
   ]
  },
  {
   "cell_type": "code",
   "execution_count": 60,
   "id": "27f28afc",
   "metadata": {},
   "outputs": [
    {
     "name": "stdout",
     "output_type": "stream",
     "text": [
      "Multiple Comparison of Means - Tukey HSD, FWER=0.05\n",
      "===================================================\n",
      "group1 group2 meandiff p-adj   lower  upper  reject\n",
      "---------------------------------------------------\n",
      "   1.0    2.0   0.3937 0.7031  -0.805 1.5924  False\n",
      "   1.0    3.0   1.0773  0.012  0.1931 1.9616   True\n",
      "   2.0    3.0   0.6837  0.378 -0.5186 1.8859  False\n",
      "---------------------------------------------------\n"
     ]
    }
   ],
   "source": [
    "from statsmodels.stats.multicomp import pairwise_tukeyhsd\n",
    "\n",
    "tukey = pairwise_tukeyhsd(bd_aux['HEI2015_TOTAL_SCORE'],\n",
    "                  bd_aux['ADHERENCE'],\n",
    "                  alpha = 0.05)\n",
    "\n",
    "print(tukey)"
   ]
  },
  {
   "cell_type": "code",
   "execution_count": null,
   "id": "cfb0dbb9",
   "metadata": {},
   "outputs": [],
   "source": [
    "# Existe diferença apenas entre os grupos 1(muito pouco ou nada) e 3 (muito exercício)"
   ]
  },
  {
   "cell_type": "code",
   "execution_count": 61,
   "id": "74da2349",
   "metadata": {},
   "outputs": [
    {
     "data": {
      "image/png": "[encoded data removed]",
      "text/plain": [
       "<Figure size 504x360 with 1 Axes>"
      ]
     },
     "metadata": {
      "needs_background": "light"
     },
     "output_type": "display_data"
    },
    {
     "data": {
      "image/png": "[encoded data removed]",
      "text/plain": [
       "<Figure size 1080x360 with 2 Axes>"
      ]
     },
     "metadata": {
      "needs_background": "light"
     },
     "output_type": "display_data"
    }
   ],
   "source": [
    "# Hábitos saudáveis x Gênero\n",
    "plt.figure(figsize=(7,5))\n",
    "sns.boxplot(x=\"RIAGENDR\", \n",
    "            y=\"HEI2015_TOTAL_SCORE\", #Alimentação\n",
    "            data=bd2.replace(label_quali))\n",
    "plt.show()\n",
    "\n",
    "fig, ax = plt.subplots(ncols=2, figsize=(15,5))\n",
    "sns.boxplot(x=\"RIAGENDR\", \n",
    "            y=\"PAG_HRW\",  #Tempo de atividade física\n",
    "            data=bd2.replace(label_quali),\n",
    "            ax = ax[0])\n",
    "\n",
    "sns.boxplot(x=\"RIAGENDR\", \n",
    "            y=\"PAG_HRW_log\", \n",
    "            data=bd2.replace(label_quali),\n",
    "            ax = ax[1])\n",
    "plt.show()"
   ]
  },
  {
   "cell_type": "code",
   "execution_count": 79,
   "id": "c6316e71",
   "metadata": {},
   "outputs": [
    {
     "name": "stdout",
     "output_type": "stream",
     "text": [
      "stat=27.216, p=0.000\n"
     ]
    }
   ],
   "source": [
    "from scipy.stats import f_oneway\n",
    "\n",
    "bd_aux = bd2[[\"RIAGENDR\", \"PAG_HRW\", \"PAG_HRW_log\", \"HEI2015_TOTAL_SCORE\"]].dropna()\n",
    "\n",
    "stat, p = f_oneway(bd_aux[(bd_aux.RIAGENDR == 1)][\"HEI2015_TOTAL_SCORE\"],\n",
    "                   bd_aux[(bd_aux.RIAGENDR == 2)][\"HEI2015_TOTAL_SCORE\"])\n",
    "\n",
    "print('stat=%.3f, p=%.3f' % (stat, p))\n",
    "# Tem diferença entre os dois grupos em relação a alimentação"
   ]
  },
  {
   "cell_type": "code",
   "execution_count": 64,
   "id": "75997ee2",
   "metadata": {},
   "outputs": [
    {
     "name": "stdout",
     "output_type": "stream",
     "text": [
      "stat=50.329, p=0.000\n"
     ]
    }
   ],
   "source": [
    "from scipy.stats import f_oneway\n",
    "\n",
    "bd_aux = bd2[[\"RIAGENDR\", \"PAG_HRW\", \"PAG_HRW_log\", \"HEI2015_TOTAL_SCORE\"]].dropna()\n",
    "\n",
    "stat, p = f_oneway(bd_aux[(bd_aux.RIAGENDR == 1)][\"PAG_HRW_log\"],\n",
    "                   bd_aux[(bd_aux.RIAGENDR == 2)][\"PAG_HRW_log\"])\n",
    "\n",
    "print('stat=%.3f, p=%.3f' % (stat, p))\n",
    "# Tem diferença entre os dois grupos em relação a tempo de exercício físico"
   ]
  },
  {
   "cell_type": "code",
   "execution_count": 65,
   "id": "f7247c5e",
   "metadata": {},
   "outputs": [
    {
     "data": {
      "image/png": "[encoded data removed]",
      "text/plain": [
       "<Figure size 504x360 with 1 Axes>"
      ]
     },
     "metadata": {
      "needs_background": "light"
     },
     "output_type": "display_data"
    },
    {
     "data": {
      "image/png": "[encoded data removed]",
      "text/plain": [
       "<Figure size 1080x360 with 2 Axes>"
      ]
     },
     "metadata": {
      "needs_background": "light"
     },
     "output_type": "display_data"
    }
   ],
   "source": [
    "# Hábitos saudáveis e Raça\n",
    "plt.figure(figsize=(7,5))\n",
    "sns.boxplot(x=\"RIDRETH1\", \n",
    "            y=\"HEI2015_TOTAL_SCORE\", \n",
    "            data=bd2.replace(label_quali))\n",
    "plt.show()\n",
    "\n",
    "fig, ax = plt.subplots(ncols=2, figsize=(15,5))\n",
    "sns.boxplot(x=\"RIDRETH1\", \n",
    "            y=\"PAG_HRW\", \n",
    "            data=bd2.replace(label_quali),\n",
    "            ax = ax[0])\n",
    "\n",
    "sns.boxplot(x=\"RIDRETH1\", \n",
    "            y=\"PAG_HRW_log\", \n",
    "            data=bd2.replace(label_quali),\n",
    "            ax = ax[1])\n",
    "plt.show()"
   ]
  },
  {
   "cell_type": "code",
   "execution_count": 66,
   "id": "f0e31281",
   "metadata": {},
   "outputs": [
    {
     "name": "stdout",
     "output_type": "stream",
     "text": [
      "stat=11.860, p=0.000\n"
     ]
    }
   ],
   "source": [
    "from scipy.stats import f_oneway\n",
    "\n",
    "bd_aux = bd2[[\"RIDRETH1\", \"PAG_HRW\", \"PAG_HRW_log\", \"HEI2015_TOTAL_SCORE\"]].dropna()\n",
    "\n",
    "stat, p = f_oneway(bd_aux[(bd_aux.RIDRETH1 == 1)][\"HEI2015_TOTAL_SCORE\"],\n",
    "                   bd_aux[(bd_aux.RIDRETH1 == 2)][\"HEI2015_TOTAL_SCORE\"],\n",
    "                   bd_aux[(bd_aux.RIDRETH1 == 3)][\"HEI2015_TOTAL_SCORE\"],\n",
    "                   bd_aux[(bd_aux.RIDRETH1 == 4)][\"HEI2015_TOTAL_SCORE\"])\n",
    "\n",
    "print('stat=%.3f, p=%.3f' % (stat, p))\n",
    "# Tem diferença entre os grupos em relação a alimentação"
   ]
  },
  {
   "cell_type": "code",
   "execution_count": 70,
   "id": "33bbbab6",
   "metadata": {},
   "outputs": [
    {
     "name": "stdout",
     "output_type": "stream",
     "text": [
      "Multiple Comparison of Means - Tukey HSD, FWER=0.05 \n",
      "====================================================\n",
      "group1 group2 meandiff p-adj   lower   upper  reject\n",
      "----------------------------------------------------\n",
      "     1      2   -0.964  0.556 -2.8709   0.943  False\n",
      "     1      3  -1.0955 0.0718 -2.2542  0.0632  False\n",
      "     1      4  -2.9767  0.001 -4.2992 -1.6541   True\n",
      "     2      3  -0.1315    0.9 -1.8988  1.6357  False\n",
      "     2      4  -2.0127 0.0302 -3.8914  -0.134   True\n",
      "     3      4  -1.8812  0.001 -2.9928 -0.7696   True\n",
      "----------------------------------------------------\n"
     ]
    }
   ],
   "source": [
    "from statsmodels.stats.multicomp import pairwise_tukeyhsd\n",
    "\n",
    "tukey = pairwise_tukeyhsd(bd_aux['HEI2015_TOTAL_SCORE'],\n",
    "                  bd_aux['RIDRETH1'],\n",
    "                  alpha = 0.05)\n",
    "\n",
    "print(tukey)"
   ]
  },
  {
   "cell_type": "markdown",
   "id": "be90db82",
   "metadata": {},
   "source": [
    "### Aspectos da análise\n",
    "\n",
    "1. Qual o tipo de estudo está sendo empregado pelo NHANES? Experimental ou observacional?\n",
    "\n",
    "2. Discuta as possíveis fontes de viés presentes na análise\n",
    "\n",
    "3. A partir da análise realizada, podemos afirmar que hábitos saudáveis possuem um efeito causal na prevenção de depressão?\n",
    "\n",
    "4. Quais são as fraquezas das análises realizadas? O que pode ser feito para melhorar?\n",
    "\n",
    "5. Quais outras variáveis/informações poderiam ter sido coletadas para esta análise?"
   ]
  },
  {
   "cell_type": "code",
   "execution_count": null,
   "id": "39f1a53a",
   "metadata": {},
   "outputs": [],
   "source": [
    "# 1. Obervacional, pois analisa os hábitos das pessoas, não 'força' elas a não fazer exercício, se alimentar mal para ver\n",
    "# os resultados na depressão.\n",
    "\n",
    "# 2. A remoção dos missing values pode causar viés na análise, mas aqui não foi considerado porque são poucos valores (menos de\n",
    "# 10%) e alguns eram linhas completas.\n",
    "\n",
    "# 3. Sim, hábitos saudáveis como praticar exercício físico e ter uma boa alimentação reduzem chance de desenvolver depressão.\n",
    "# Outras informações que influenciam: renda (quanto menor a renda, mais severos os sintomas de depressão).\n",
    "\n",
    "# 4. Analisar (comparar) variável por variável. Poderia ser feito regressão múltipla para analisar todas elas de uma vez.\n",
    "\n",
    "# 5. Sono, tempo de sono e qualidade; tempo de lazer; qualidade dos relacionamentos, aspectos relacionados a trabalho."
   ]
  }
 ],
 "metadata": {
  "kernelspec": {
   "display_name": "Python 3 (ipykernel)",
   "language": "python",
   "name": "python3"
  },
  "language_info": {
   "codemirror_mode": {
    "name": "ipython",
    "version": 3
   },
   "file_extension": ".py",
   "mimetype": "text/x-python",
   "name": "python",
   "nbconvert_exporter": "python",
   "pygments_lexer": "ipython3",
   "version": "3.9.7"
  }
 },
 "nbformat": 4,
 "nbformat_minor": 5
}
